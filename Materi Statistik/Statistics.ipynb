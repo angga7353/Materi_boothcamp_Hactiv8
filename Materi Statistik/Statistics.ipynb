{
  "cells": [
    {
      "cell_type": "markdown",
      "source": [
        "# Additional Materials\n",
        "by Lis Wahyuni"
      ],
      "metadata": {
        "id": "TUQJQXJ5dMc0"
      }
    },
    {
      "cell_type": "markdown",
      "metadata": {
        "id": "FvB6GRKQaUG3"
      },
      "source": [
        "# Z-score"
      ]
    },
    {
      "cell_type": "markdown",
      "metadata": {
        "id": "69KjG4yCaUG5"
      },
      "source": [
        "## Arah dan Besaran\n",
        "\n",
        "- Nilai positif menunjukkan data di atas rata-rata\n",
        "- Nilai negatif menunjukkan data di bawah rata-rata\n",
        "- Besarnya nilai menunjukkan seberapa ekstrem data tersebut\n",
        "\n",
        "## Interpretasi Umum\n",
        "\n",
        "- Z-score 0 berarti tepat pada rata-rata.\n",
        "- Z-score ±1 berarti 1 standar deviasi di atas/bawah rata-rata.\n",
        "- Z-score ±2 berarti 2 standar deviasi di atas/bawah rata-rata.\n",
        "- dst."
      ]
    },
    {
      "cell_type": "code",
      "execution_count": null,
      "metadata": {
        "id": "A7stmWV_aUG5"
      },
      "outputs": [],
      "source": [
        "import numpy as np"
      ]
    },
    {
      "cell_type": "code",
      "execution_count": null,
      "metadata": {
        "id": "FYrzjL6NaUG6",
        "colab": {
          "base_uri": "https://localhost:8080/"
        },
        "outputId": "709fee87-fc45-4a77-dc2c-cfec30fa24df"
      },
      "outputs": [
        {
          "output_type": "stream",
          "name": "stdout",
          "text": [
            "Rata-rata tinggi badan: 149.23 cm\n",
            "Standar deviasi: 2.11 cm\n"
          ]
        }
      ],
      "source": [
        "# Data tinggi badan anak dalam cm\n",
        "tinggi_badan = [\n",
        "    145, 150, 148, 152, 147, 149, 151, 146, 153, 148,\n",
        "    150, 147, 149, 151, 148, 152, 146, 150, 149, 147,\n",
        "    153, 148, 151, 149, 150, 152, 147, 151, 148, 150\n",
        "]\n",
        "\n",
        "# Hitung rata-rata dan standar deviasi\n",
        "rata_rata = np.mean(tinggi_badan)\n",
        "standar_deviasi = np.std(tinggi_badan)\n",
        "\n",
        "print(f\"Rata-rata tinggi badan: {rata_rata:.2f} cm\")\n",
        "print(f\"Standar deviasi: {standar_deviasi:.2f} cm\")"
      ]
    },
    {
      "cell_type": "code",
      "execution_count": null,
      "metadata": {
        "id": "k81Bz3tdaUG7"
      },
      "outputs": [],
      "source": [
        "# Fungsi untuk menghitung z-score\n",
        "def hitung_z_score(nilai, rata_rata, standar_deviasi):\n",
        "    return (nilai - rata_rata) / standar_deviasi"
      ]
    },
    {
      "cell_type": "code",
      "execution_count": null,
      "metadata": {
        "id": "VShgabgtaUG7",
        "colab": {
          "base_uri": "https://localhost:8080/"
        },
        "outputId": "5643fefd-9bb7-44ba-b833-8c0c597dae26"
      },
      "outputs": [
        {
          "output_type": "stream",
          "name": "stdout",
          "text": [
            "Z-score Anak 1 (145 cm): -2.01\n",
            "Z-score Anak 2 (150 cm): 0.36\n",
            "Z-score Anak 3 (153 cm): 1.79\n"
          ]
        }
      ],
      "source": [
        "# Menghitung z-score untuk beberapa anak\n",
        "anak_1 = 145\n",
        "anak_2 = 150\n",
        "anak_3 = 153\n",
        "\n",
        "z_score_1 = hitung_z_score(anak_1, rata_rata, standar_deviasi)\n",
        "z_score_2 = hitung_z_score(anak_2, rata_rata, standar_deviasi)\n",
        "z_score_3 = hitung_z_score(anak_3, rata_rata, standar_deviasi)\n",
        "\n",
        "print(f\"Z-score Anak 1 (145 cm): {z_score_1:.2f}\")\n",
        "print(f\"Z-score Anak 2 (150 cm): {z_score_2:.2f}\")\n",
        "print(f\"Z-score Anak 3 (153 cm): {z_score_3:.2f}\")"
      ]
    },
    {
      "cell_type": "markdown",
      "metadata": {
        "id": "P3Z0f3kCaUG7"
      },
      "source": [
        "## Perbandingan Nilai Siwa dengan Z-score"
      ]
    },
    {
      "cell_type": "code",
      "execution_count": null,
      "metadata": {
        "id": "q7-8Z0JHaUG7"
      },
      "outputs": [],
      "source": [
        "# Data nilai siswa\n",
        "sekolah_A = [75, 80, 85, 90, 95]  # Nilai maksimum 100\n",
        "sekolah_B = [3.0, 3.2, 3.4, 3.6, 3.8]  # Nilai maksimum 4.0\n",
        "\n",
        "# Nilai siswa yang ingin dibandingkan\n",
        "siswa_A = 85\n",
        "siswa_B = 3.2"
      ]
    },
    {
      "cell_type": "code",
      "execution_count": null,
      "metadata": {
        "id": "N4V3WgomaUG7"
      },
      "outputs": [],
      "source": [
        "# Fungsi untuk menghitung z-score\n",
        "def hitung_z_score(nilai, data):\n",
        "    return (nilai - np.mean(data)) / np.std(data)"
      ]
    },
    {
      "cell_type": "code",
      "execution_count": null,
      "metadata": {
        "id": "o9W4wVE5aUG7",
        "colab": {
          "base_uri": "https://localhost:8080/"
        },
        "outputId": "c45c5462-2a87-46ca-9be4-c0ec7ec10060"
      },
      "outputs": [
        {
          "output_type": "stream",
          "name": "stdout",
          "text": [
            "Z-score Siswa A: 0.00\n",
            "Z-score Siswa B: -0.71\n"
          ]
        }
      ],
      "source": [
        "# Hitung z-score\n",
        "z_score_A = hitung_z_score(siswa_A, sekolah_A)\n",
        "z_score_B = hitung_z_score(siswa_B, sekolah_B)\n",
        "\n",
        "print(f\"Z-score Siswa A: {z_score_A:.2f}\")\n",
        "print(f\"Z-score Siswa B: {z_score_B:.2f}\")"
      ]
    },
    {
      "cell_type": "code",
      "execution_count": null,
      "metadata": {
        "id": "ef2eFuZOaUG7",
        "colab": {
          "base_uri": "https://localhost:8080/"
        },
        "outputId": "f2d8e227-a007-4584-aab6-61c39a49e9fb"
      },
      "outputs": [
        {
          "output_type": "stream",
          "name": "stdout",
          "text": [
            "Siswa A memiliki performa relatif lebih baik di sekolahnya.\n"
          ]
        }
      ],
      "source": [
        "# Membandingkan siswa A dan B\n",
        "if z_score_A > z_score_B:\n",
        "    print(\"Siswa A memiliki performa relatif lebih baik di sekolahnya.\")\n",
        "elif z_score_B > z_score_A:\n",
        "    print(\"Siswa B memiliki performa relatif lebih baik di sekolahnya.\")\n",
        "else:\n",
        "    print(\"Kedua siswa memiliki performa relatif yang setara di sekolah masing-masing.\")"
      ]
    },
    {
      "cell_type": "markdown",
      "source": [
        "# ANOVA (Analysis of Variance)\n",
        "## Studi Kasus\n",
        "Menguji hubungan antara ketiga metode belajar (variabel independen) dan nilai ujian (variabel dependen).\n",
        "## Hipotesis\n",
        "**H0 (Hipotesis Nol)**: Tidak ada perbedaan signifikan nilai ujian antara ketiga metode pembelajaran.\n",
        "\n",
        "**H1 (Hipotesis Alternatif)**: Terdapat perbedaan signifikan nilai ujian antara minimal dua metode pembelajaran.\n",
        "## Eta-squared\n",
        "Eta-squared (η²) adalah ukuran effect size untuk ANOVA yang menunjukkan proporsi variabilitas dalam variabel dependen yang dapat dijelaskan oleh variabel independen. <br>\n",
        "Formula: https://researchutopia.wordpress.com/wp-content/uploads/2013/03/es1.png <br>\n",
        "\n",
        "Formula details: https://cdn1.byjus.com/wp-content/uploads/2020/09/one-way-ANOVA-formulas.png\n",
        "### SS_between (Sum of Squares between groups)\n",
        "Ini mengukur seberapa berbeda rata-rata setiap kelompok dari rata-rata keseluruhan.\n",
        "Misal: ada 3 kelompok siswa yang belajar dengan cara berbeda\n",
        "\n",
        "- Kelompok A rata-rata dapat nilai 85\n",
        "- Kelompok B rata-rata dapat nilai 75\n",
        "- Kelompok C rata-rata dapat nilai 90\n",
        "- Rata-rata semua siswa adalah 83.3\n",
        "\n",
        "SS_between melihat seberapa jauh rata-rata tiap kelompok (85, 75, 90) dari rata-rata total (83.3). Semakin besar perbedaannya, semakin besar SS_between.\n",
        "\n",
        "### SS_within (Sum of Squares within groups)\n",
        "Ini mengukur seberapa beragam nilai siswa dalam satu kelompok yang sama\n",
        "Contoh:\n",
        "\n",
        "Dalam kelompok A ada yang dapat 82, 85, 88, 84, dst.\n",
        "\n",
        "SS_within melihat seberapa jauh nilai-nilai ini dari rata-rata kelompok mereka sendiri (85). Semakin beragam nilai dalam kelompok, semakin besar SS_within.\n",
        "\n",
        "### SS_total\n",
        "Ini adalah total variasi dari semua nilai (\"total ketidaksamaan\" dalam semua nilai).\n",
        "\n",
        "SS_total = SS_between + SS_within\n",
        "\n",
        "**Interpretasinya**: <br>\n",
        "η² ≈ 0.01: efek kecil <br>\n",
        "η² ≈ 0.06: efek sedang <br>\n",
        "η² ≈ 0.14: efek besar\n"
      ],
      "metadata": {
        "id": "Yk9Vo3Q2wc8P"
      }
    },
    {
      "cell_type": "code",
      "source": [
        "import numpy as np\n",
        "import pandas as pd\n",
        "from scipy import stats"
      ],
      "metadata": {
        "id": "X6BB8ZC8Guwn"
      },
      "execution_count": null,
      "outputs": []
    },
    {
      "cell_type": "code",
      "source": [
        "def hitung_eta_squared(groups):\n",
        "    \"\"\"\n",
        "    Menghitung eta-squared dari hasil ANOVA\n",
        "    Eta squared = SS_between / SS_total\n",
        "    dimana:\n",
        "    SS_between: variasi antarkelompok\n",
        "    SS_between = sum(n_i * (mean_i - grand_mean)^2)\n",
        "\n",
        "    SS_within: variasi dalam kelompok\n",
        "    SS_within = sum((x_ij - mean_i)^2)\n",
        "\n",
        "    SS_total = SS_between + SS_within\n",
        "    SS_total = SS_between + SS_within\n",
        "\n",
        "    \"\"\"\n",
        "    # Menggabungkan semua data\n",
        "    all_data = np.concatenate(groups)\n",
        "    grand_mean = np.mean(all_data)\n",
        "    n_total = len(all_data)\n",
        "\n",
        "    # Menghitung SS_between\n",
        "    ss_between = sum(len(group) * (np.mean(group) - grand_mean) ** 2 for group in groups)\n",
        "\n",
        "    # Menghitung SS_within\n",
        "    ss_within = sum(sum((x - np.mean(group)) ** 2) for group, x in zip(groups, groups))\n",
        "\n",
        "    # Menghitung SS_total\n",
        "    ss_total = ss_between + ss_within\n",
        "\n",
        "    # Menghitung eta squared\n",
        "    eta_squared = ss_between / ss_total\n",
        "    return eta_squared, ss_between, ss_within, ss_total"
      ],
      "metadata": {
        "id": "yIwqeno0II--"
      },
      "execution_count": null,
      "outputs": []
    },
    {
      "cell_type": "code",
      "source": [
        "# Data nilai ujian siswa berdasarkan 3 metode belajar berbeda\n",
        "metode_a = np.array([85, 82, 88, 84, 86, 85, 87, 84])\n",
        "metode_b = np.array([75, 78, 77, 76, 79, 75, 78, 77])\n",
        "metode_c = np.array([90, 92, 91, 89, 93, 90, 92, 91])"
      ],
      "metadata": {
        "id": "2FNOkx0jHafa"
      },
      "execution_count": null,
      "outputs": []
    },
    {
      "cell_type": "code",
      "source": [
        "# Melakukan uji ANOVA\n",
        "f_stat, p_value = stats.f_oneway(metode_a, metode_b, metode_c)\n",
        "\n",
        "# Menghitung eta squared dan komponen-komponennya\n",
        "eta_sq, ss_between, ss_within, ss_total = hitung_eta_squared([metode_a, metode_b, metode_c])\n",
        "\n",
        "print(\"\\nKomponen ANOVA\")\n",
        "print(f\"SS between groups: {ss_between:.4f}\")\n",
        "print(f\"SS within groups: {ss_within:.4f}\")\n",
        "print(f\"SS total: {ss_total:.4f}\")\n",
        "print(f\"\\nHasil ANOVA\")\n",
        "print(f\"F-statistic: {f_stat:.4f}\")\n",
        "print(f\"p-value: {p_value:.4f}\")\n",
        "print(f\"Eta squared: {eta_sq:.4f}\")"
      ],
      "metadata": {
        "colab": {
          "base_uri": "https://localhost:8080/"
        },
        "id": "f7NHvjmdLJJt",
        "outputId": "9c4f2585-3f38-4f71-94d9-eab21143efbb"
      },
      "execution_count": null,
      "outputs": [
        {
          "output_type": "stream",
          "name": "stdout",
          "text": [
            "\n",
            "Komponen ANOVA\n",
            "SS between groups: 805.5833\n",
            "SS within groups: 51.7500\n",
            "SS total: 857.3333\n",
            "\n",
            "Hasil ANOVA\n",
            "F-statistic: 163.4517\n",
            "p-value: 0.0000\n",
            "Eta squared: 0.9396\n"
          ]
        }
      ]
    },
    {
      "cell_type": "markdown",
      "source": [
        "### Interpretasi Hasil\n",
        "Dari hasil analisis di atas, nilai p-value 0.00 maka p-value < 0.05 sehingga H0 ditolak. Dapat disimpulkan terdapat perbedaan signifikan nilai ujian antara minimal dua metode pembelajaran.\n",
        "\n",
        "Kekuatan efek (eta-squared) sebesar 0.9396 artinya efek sangat besar."
      ],
      "metadata": {
        "id": "g7W03uiyOI5B"
      }
    },
    {
      "cell_type": "markdown",
      "source": [
        "# Chi-squared Test\n",
        "## Studi Kasus\n",
        "Menguji korelasi antara tingkat pendidikan dengan preferensi bekerja.\n",
        "## Hipotesis\n",
        "H0: Tidak ada hubungan antara tingkat pendidikan dan preferensi bekerja.\n",
        "\n",
        "H1: Terdapat hubungan antara tingkat pendidikan dan preferensi bekerja.\n",
        "## Cramer's V\n",
        "Cramer's V adalah ukuran effect size untuk chi-squared test yang menunjukkan kekuatan asosiasi antara dua variabel kategorikal. <br>\n",
        "Formula Cramer's V: https://miro.medium.com/v2/resize:fit:1096/1*yKdRzVeGCixBmhFb4cIouA.png <br>\n",
        "## Minimum Dimension (min_dim)\n",
        "Angka yang lebih kecil antara jumlah baris atau kolom dalam tabel.\n",
        "\n",
        "Misal:\n",
        "\n",
        "3 tingkat pendidikan (SMA, D3, S1) = 3 baris\n",
        "\n",
        "2 status kerja (Bekerja, Tidak Bekerja) = 2 kolom\n",
        "\n",
        "maka min_dim = 2 (karena 2 < 3)\n",
        "\n",
        "# Degrees of Freedom/Derajat kebebasan (dof)\n",
        "Ini menunjukkan berapa angka yang bisa berubah-ubah secara bebas dalam tabel.\n",
        "> The degrees of freedom for a Chi-square grid are equal to the number of rows minus one times the number of columns minus one.\n",
        "\n",
        "Misalkan dalam tabel 3x2 (3 baris, 2 kolom):\n",
        "\n",
        "Total baris = 3\n",
        "\n",
        "Total kolom = 2\n",
        "\n",
        "dof = (3-1) × (2-1) = 2\n",
        "\n",
        "Semakin besar dof, semakin banyak kemungkinan variasi dalam data.\n",
        "\n",
        "**Interpretasinya**: <br>\n",
        "V ≈ 0.10: asosiasi lemah <br>\n",
        "V ≈ 0.30: asosiasi sedang <br>\n",
        "V ≈ 0.50: asosiasi kuat"
      ],
      "metadata": {
        "id": "_s67ytLzGEqQ"
      }
    },
    {
      "cell_type": "code",
      "source": [
        "# Data tingkat pendidikan dan status pekerjaan\n",
        "data_pendidikan_pekerjaan = {\n",
        "    'Pendidikan': ['SMA'] * 30 + ['D3'] * 30 + ['S1'] * 30,\n",
        "    'Status_Kerja': ['Bekerja'] * 20 + ['Tidak Bekerja'] * 10 +\n",
        "                    ['Bekerja'] * 15 + ['Tidak Bekerja'] * 15 +\n",
        "                    ['Bekerja'] * 25 + ['Tidak Bekerja'] * 5\n",
        "}\n",
        "data_pendidikan_pekerjaan"
      ],
      "metadata": {
        "colab": {
          "base_uri": "https://localhost:8080/"
        },
        "id": "yZgvUaLGF2Qy",
        "outputId": "444fe5b3-0fe0-4cc0-95cc-961e448c77f6"
      },
      "execution_count": null,
      "outputs": [
        {
          "output_type": "execute_result",
          "data": {
            "text/plain": [
              "{'Pendidikan': ['SMA',\n",
              "  'SMA',\n",
              "  'SMA',\n",
              "  'SMA',\n",
              "  'SMA',\n",
              "  'SMA',\n",
              "  'SMA',\n",
              "  'SMA',\n",
              "  'SMA',\n",
              "  'SMA',\n",
              "  'SMA',\n",
              "  'SMA',\n",
              "  'SMA',\n",
              "  'SMA',\n",
              "  'SMA',\n",
              "  'SMA',\n",
              "  'SMA',\n",
              "  'SMA',\n",
              "  'SMA',\n",
              "  'SMA',\n",
              "  'SMA',\n",
              "  'SMA',\n",
              "  'SMA',\n",
              "  'SMA',\n",
              "  'SMA',\n",
              "  'SMA',\n",
              "  'SMA',\n",
              "  'SMA',\n",
              "  'SMA',\n",
              "  'SMA',\n",
              "  'D3',\n",
              "  'D3',\n",
              "  'D3',\n",
              "  'D3',\n",
              "  'D3',\n",
              "  'D3',\n",
              "  'D3',\n",
              "  'D3',\n",
              "  'D3',\n",
              "  'D3',\n",
              "  'D3',\n",
              "  'D3',\n",
              "  'D3',\n",
              "  'D3',\n",
              "  'D3',\n",
              "  'D3',\n",
              "  'D3',\n",
              "  'D3',\n",
              "  'D3',\n",
              "  'D3',\n",
              "  'D3',\n",
              "  'D3',\n",
              "  'D3',\n",
              "  'D3',\n",
              "  'D3',\n",
              "  'D3',\n",
              "  'D3',\n",
              "  'D3',\n",
              "  'D3',\n",
              "  'D3',\n",
              "  'S1',\n",
              "  'S1',\n",
              "  'S1',\n",
              "  'S1',\n",
              "  'S1',\n",
              "  'S1',\n",
              "  'S1',\n",
              "  'S1',\n",
              "  'S1',\n",
              "  'S1',\n",
              "  'S1',\n",
              "  'S1',\n",
              "  'S1',\n",
              "  'S1',\n",
              "  'S1',\n",
              "  'S1',\n",
              "  'S1',\n",
              "  'S1',\n",
              "  'S1',\n",
              "  'S1',\n",
              "  'S1',\n",
              "  'S1',\n",
              "  'S1',\n",
              "  'S1',\n",
              "  'S1',\n",
              "  'S1',\n",
              "  'S1',\n",
              "  'S1',\n",
              "  'S1',\n",
              "  'S1'],\n",
              " 'Status_Kerja': ['Bekerja',\n",
              "  'Bekerja',\n",
              "  'Bekerja',\n",
              "  'Bekerja',\n",
              "  'Bekerja',\n",
              "  'Bekerja',\n",
              "  'Bekerja',\n",
              "  'Bekerja',\n",
              "  'Bekerja',\n",
              "  'Bekerja',\n",
              "  'Bekerja',\n",
              "  'Bekerja',\n",
              "  'Bekerja',\n",
              "  'Bekerja',\n",
              "  'Bekerja',\n",
              "  'Bekerja',\n",
              "  'Bekerja',\n",
              "  'Bekerja',\n",
              "  'Bekerja',\n",
              "  'Bekerja',\n",
              "  'Tidak Bekerja',\n",
              "  'Tidak Bekerja',\n",
              "  'Tidak Bekerja',\n",
              "  'Tidak Bekerja',\n",
              "  'Tidak Bekerja',\n",
              "  'Tidak Bekerja',\n",
              "  'Tidak Bekerja',\n",
              "  'Tidak Bekerja',\n",
              "  'Tidak Bekerja',\n",
              "  'Tidak Bekerja',\n",
              "  'Bekerja',\n",
              "  'Bekerja',\n",
              "  'Bekerja',\n",
              "  'Bekerja',\n",
              "  'Bekerja',\n",
              "  'Bekerja',\n",
              "  'Bekerja',\n",
              "  'Bekerja',\n",
              "  'Bekerja',\n",
              "  'Bekerja',\n",
              "  'Bekerja',\n",
              "  'Bekerja',\n",
              "  'Bekerja',\n",
              "  'Bekerja',\n",
              "  'Bekerja',\n",
              "  'Tidak Bekerja',\n",
              "  'Tidak Bekerja',\n",
              "  'Tidak Bekerja',\n",
              "  'Tidak Bekerja',\n",
              "  'Tidak Bekerja',\n",
              "  'Tidak Bekerja',\n",
              "  'Tidak Bekerja',\n",
              "  'Tidak Bekerja',\n",
              "  'Tidak Bekerja',\n",
              "  'Tidak Bekerja',\n",
              "  'Tidak Bekerja',\n",
              "  'Tidak Bekerja',\n",
              "  'Tidak Bekerja',\n",
              "  'Tidak Bekerja',\n",
              "  'Tidak Bekerja',\n",
              "  'Bekerja',\n",
              "  'Bekerja',\n",
              "  'Bekerja',\n",
              "  'Bekerja',\n",
              "  'Bekerja',\n",
              "  'Bekerja',\n",
              "  'Bekerja',\n",
              "  'Bekerja',\n",
              "  'Bekerja',\n",
              "  'Bekerja',\n",
              "  'Bekerja',\n",
              "  'Bekerja',\n",
              "  'Bekerja',\n",
              "  'Bekerja',\n",
              "  'Bekerja',\n",
              "  'Bekerja',\n",
              "  'Bekerja',\n",
              "  'Bekerja',\n",
              "  'Bekerja',\n",
              "  'Bekerja',\n",
              "  'Bekerja',\n",
              "  'Bekerja',\n",
              "  'Bekerja',\n",
              "  'Bekerja',\n",
              "  'Bekerja',\n",
              "  'Tidak Bekerja',\n",
              "  'Tidak Bekerja',\n",
              "  'Tidak Bekerja',\n",
              "  'Tidak Bekerja',\n",
              "  'Tidak Bekerja']}"
            ]
          },
          "metadata": {},
          "execution_count": 13
        }
      ]
    },
    {
      "cell_type": "code",
      "source": [
        "def hitung_cramers_v(chi2, n, min_dim):\n",
        "    \"\"\"\n",
        "    Menghitung Cramer's V dari hasil Chi-squared\n",
        "    Cramer's V = sqrt(chi2 / (n * (min_dim - 1)))\n",
        "    dimana:\n",
        "    chi2 = nilai chi-square\n",
        "    n = ukuran sampel total\n",
        "    min_dim = minimum dari jumlah baris atau kolom\n",
        "    \"\"\"\n",
        "    return np.sqrt(chi2 / (n * (min_dim - 1)))\n"
      ],
      "metadata": {
        "id": "i_p5BHQNH6kP"
      },
      "execution_count": null,
      "outputs": []
    },
    {
      "cell_type": "code",
      "source": [
        "# Membuat contingency table\n",
        "df = pd.DataFrame(data_pendidikan_pekerjaan)\n",
        "cont_table = pd.crosstab(df['Pendidikan'], df['Status_Kerja'])\n",
        "print(\"Tabel Kontingensi\")\n",
        "print(cont_table)"
      ],
      "metadata": {
        "colab": {
          "base_uri": "https://localhost:8080/"
        },
        "id": "HVqe_OMDPRiN",
        "outputId": "fcfbddd5-1f10-448b-83bc-f764989de7f2"
      },
      "execution_count": null,
      "outputs": [
        {
          "output_type": "stream",
          "name": "stdout",
          "text": [
            "Tabel Kontingensi\n",
            "Status_Kerja  Bekerja  Tidak Bekerja\n",
            "Pendidikan                          \n",
            "D3                 15             15\n",
            "S1                 25              5\n",
            "SMA                20             10\n"
          ]
        }
      ]
    },
    {
      "cell_type": "code",
      "source": [
        "cont_table.shape"
      ],
      "metadata": {
        "colab": {
          "base_uri": "https://localhost:8080/"
        },
        "id": "qcF2j3ei4fMP",
        "outputId": "2887333e-d5ed-493b-a253-3d3c2805d282"
      },
      "execution_count": null,
      "outputs": [
        {
          "output_type": "execute_result",
          "data": {
            "text/plain": [
              "(3, 2)"
            ]
          },
          "metadata": {},
          "execution_count": 19
        }
      ]
    },
    {
      "cell_type": "code",
      "source": [
        "# Melakukan uji Chi-squared\n",
        "chi2, p_value_chi2, dof, expected = stats.chi2_contingency(cont_table)\n",
        "\n",
        "print(f\"Hasil Chi-squared\")\n",
        "print(f\"Chi-square statistic: {chi2:.4f}\")\n",
        "print(f\"p-value: {p_value_chi2:.4f}\")\n",
        "print(f\"Degrees of freedom: {dof}\")\n",
        "print(f\"Expected: {expected}\")"
      ],
      "metadata": {
        "colab": {
          "base_uri": "https://localhost:8080/"
        },
        "id": "QYST5GDbPZZr",
        "outputId": "d7ae1a99-f74d-4200-c502-f8d92af1622b"
      },
      "execution_count": null,
      "outputs": [
        {
          "output_type": "stream",
          "name": "stdout",
          "text": [
            "Hasil Chi-squared\n",
            "Chi-square statistic: 7.5000\n",
            "p-value: 0.0235\n",
            "Degrees of freedom: 2\n",
            "Expected: [[20. 10.]\n",
            " [20. 10.]\n",
            " [20. 10.]]\n"
          ]
        }
      ]
    },
    {
      "cell_type": "code",
      "source": [
        "# Menghitung Cramer's V\n",
        "n = len(df)\n",
        "min_dim = min(cont_table.shape)\n",
        "cramers_v = hitung_cramers_v(chi2, n, min_dim)\n",
        "\n",
        "print(f\"Cramer's V: {cramers_v:.3f}\")"
      ],
      "metadata": {
        "colab": {
          "base_uri": "https://localhost:8080/"
        },
        "id": "PCovvbEBPKGk",
        "outputId": "d90e72c6-645c-40ce-f07f-cb8ea65f74de"
      },
      "execution_count": null,
      "outputs": [
        {
          "output_type": "stream",
          "name": "stdout",
          "text": [
            "Cramer's V: 0.289\n"
          ]
        }
      ]
    },
    {
      "cell_type": "markdown",
      "source": [
        "### Interpretasi\n",
        "Dari hasil analisis, diperoleh nilai p-value ... karena p-value ... 5% maka H0 di... artinya ...\n",
        "\n",
        "Kekuatan hubungan (Cramer's V) adalah ... karena nilai tersebut < ... maka dapat disimpulkan hubungan ..."
      ],
      "metadata": {
        "id": "lsUJNTdnPoGl"
      }
    }
  ],
  "metadata": {
    "kernelspec": {
      "display_name": "Python 3",
      "language": "python",
      "name": "python3"
    },
    "language_info": {
      "codemirror_mode": {
        "name": "ipython",
        "version": 3
      },
      "file_extension": ".py",
      "mimetype": "text/x-python",
      "name": "python",
      "nbconvert_exporter": "python",
      "pygments_lexer": "ipython3",
      "version": "3.9.13"
    },
    "colab": {
      "provenance": []
    }
  },
  "nbformat": 4,
  "nbformat_minor": 0
}
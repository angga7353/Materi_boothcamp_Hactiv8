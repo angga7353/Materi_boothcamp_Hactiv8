{
  "cells": [
    {
      "cell_type": "code",
      "execution_count": 2,
      "metadata": {
        "id": "59gu8iVpLE_P"
      },
      "outputs": [
        {
          "name": "stderr",
          "output_type": "stream",
          "text": [
            "C:\\Users\\angga\\AppData\\Local\\Temp\\ipykernel_20644\\1905803957.py:5: DeprecationWarning: Importing display from IPython.core.display is deprecated since IPython 7.14, please import from IPython display\n",
            "  from IPython.core.display import display, HTML\n"
          ]
        }
      ],
      "source": [
        "import pandas as pd\n",
        "from scipy import stats\n",
        "import matplotlib.pyplot as plt\n",
        "import seaborn as sns\n",
        "from IPython.core.display import display, HTML"
      ]
    },
    {
      "cell_type": "code",
      "execution_count": 3,
      "metadata": {
        "id": "SULJGdNYNqbF"
      },
      "outputs": [],
      "source": [
        "student_perform = pd.read_csv('https://github.com/FTDS-learning-materials/phase-0/raw/main/src/StudentsPerformance.csv')\n",
        "sleep = pd.read_csv('https://github.com/FTDS-learning-materials/phase-0/raw/main/src/sleep_dat.csv')"
      ]
    },
    {
      "cell_type": "code",
      "execution_count": 4,
      "metadata": {
        "colab": {
          "base_uri": "https://localhost:8080/",
          "height": 706
        },
        "id": "GA8fqWDBQAno",
        "outputId": "cdfc08ec-d892-4f7f-f218-0d9db2f5f69f"
      },
      "outputs": [
        {
          "data": {
            "text/html": [
              "<center><b><h3>Student Performance</h3></b></center><br>"
            ],
            "text/plain": [
              "<IPython.core.display.HTML object>"
            ]
          },
          "metadata": {},
          "output_type": "display_data"
        },
        {
          "data": {
            "text/html": [
              "<div>\n",
              "<style scoped>\n",
              "    .dataframe tbody tr th:only-of-type {\n",
              "        vertical-align: middle;\n",
              "    }\n",
              "\n",
              "    .dataframe tbody tr th {\n",
              "        vertical-align: top;\n",
              "    }\n",
              "\n",
              "    .dataframe thead th {\n",
              "        text-align: right;\n",
              "    }\n",
              "</style>\n",
              "<table border=\"1\" class=\"dataframe\">\n",
              "  <thead>\n",
              "    <tr style=\"text-align: right;\">\n",
              "      <th></th>\n",
              "      <th>gender</th>\n",
              "      <th>race/ethnicity</th>\n",
              "      <th>parental level of education</th>\n",
              "      <th>lunch</th>\n",
              "      <th>test preparation course</th>\n",
              "      <th>math score</th>\n",
              "      <th>reading score</th>\n",
              "      <th>writing score</th>\n",
              "    </tr>\n",
              "  </thead>\n",
              "  <tbody>\n",
              "    <tr>\n",
              "      <th>0</th>\n",
              "      <td>female</td>\n",
              "      <td>group B</td>\n",
              "      <td>bachelor's degree</td>\n",
              "      <td>standard</td>\n",
              "      <td>none</td>\n",
              "      <td>72</td>\n",
              "      <td>72</td>\n",
              "      <td>74</td>\n",
              "    </tr>\n",
              "    <tr>\n",
              "      <th>1</th>\n",
              "      <td>female</td>\n",
              "      <td>group C</td>\n",
              "      <td>some college</td>\n",
              "      <td>standard</td>\n",
              "      <td>completed</td>\n",
              "      <td>69</td>\n",
              "      <td>90</td>\n",
              "      <td>88</td>\n",
              "    </tr>\n",
              "    <tr>\n",
              "      <th>2</th>\n",
              "      <td>female</td>\n",
              "      <td>group B</td>\n",
              "      <td>master's degree</td>\n",
              "      <td>standard</td>\n",
              "      <td>none</td>\n",
              "      <td>90</td>\n",
              "      <td>95</td>\n",
              "      <td>93</td>\n",
              "    </tr>\n",
              "    <tr>\n",
              "      <th>3</th>\n",
              "      <td>male</td>\n",
              "      <td>group A</td>\n",
              "      <td>associate's degree</td>\n",
              "      <td>free/reduced</td>\n",
              "      <td>none</td>\n",
              "      <td>47</td>\n",
              "      <td>57</td>\n",
              "      <td>44</td>\n",
              "    </tr>\n",
              "    <tr>\n",
              "      <th>4</th>\n",
              "      <td>male</td>\n",
              "      <td>group C</td>\n",
              "      <td>some college</td>\n",
              "      <td>standard</td>\n",
              "      <td>none</td>\n",
              "      <td>76</td>\n",
              "      <td>78</td>\n",
              "      <td>75</td>\n",
              "    </tr>\n",
              "  </tbody>\n",
              "</table>\n",
              "</div>"
            ],
            "text/plain": [
              "   gender race/ethnicity parental level of education         lunch  \\\n",
              "0  female        group B           bachelor's degree      standard   \n",
              "1  female        group C                some college      standard   \n",
              "2  female        group B             master's degree      standard   \n",
              "3    male        group A          associate's degree  free/reduced   \n",
              "4    male        group C                some college      standard   \n",
              "\n",
              "  test preparation course  math score  reading score  writing score  \n",
              "0                    none          72             72             74  \n",
              "1               completed          69             90             88  \n",
              "2                    none          90             95             93  \n",
              "3                    none          47             57             44  \n",
              "4                    none          76             78             75  "
            ]
          },
          "metadata": {},
          "output_type": "display_data"
        },
        {
          "name": "stdout",
          "output_type": "stream",
          "text": [
            "\n",
            "\n"
          ]
        },
        {
          "data": {
            "text/html": [
              "<center><b><h3>Sleep Record</h3></b></center><br>"
            ],
            "text/plain": [
              "<IPython.core.display.HTML object>"
            ]
          },
          "metadata": {},
          "output_type": "display_data"
        },
        {
          "data": {
            "text/html": [
              "<div>\n",
              "<style scoped>\n",
              "    .dataframe tbody tr th:only-of-type {\n",
              "        vertical-align: middle;\n",
              "    }\n",
              "\n",
              "    .dataframe tbody tr th {\n",
              "        vertical-align: top;\n",
              "    }\n",
              "\n",
              "    .dataframe thead th {\n",
              "        text-align: right;\n",
              "    }\n",
              "</style>\n",
              "<table border=\"1\" class=\"dataframe\">\n",
              "  <thead>\n",
              "    <tr style=\"text-align: right;\">\n",
              "      <th></th>\n",
              "      <th>Person ID</th>\n",
              "      <th>Gender</th>\n",
              "      <th>Age</th>\n",
              "      <th>Occupation</th>\n",
              "      <th>Sleep Duration</th>\n",
              "      <th>Quality of Sleep</th>\n",
              "      <th>Physical Activity Level</th>\n",
              "      <th>Stress Level</th>\n",
              "      <th>BMI Category</th>\n",
              "      <th>Blood Pressure</th>\n",
              "      <th>Heart Rate</th>\n",
              "      <th>Daily Steps</th>\n",
              "      <th>Sleep Disorder</th>\n",
              "    </tr>\n",
              "  </thead>\n",
              "  <tbody>\n",
              "    <tr>\n",
              "      <th>0</th>\n",
              "      <td>1</td>\n",
              "      <td>Male</td>\n",
              "      <td>27</td>\n",
              "      <td>Software Engineer</td>\n",
              "      <td>6.1</td>\n",
              "      <td>6</td>\n",
              "      <td>42</td>\n",
              "      <td>6</td>\n",
              "      <td>Overweight</td>\n",
              "      <td>126/83</td>\n",
              "      <td>77</td>\n",
              "      <td>4200</td>\n",
              "      <td>NaN</td>\n",
              "    </tr>\n",
              "    <tr>\n",
              "      <th>1</th>\n",
              "      <td>2</td>\n",
              "      <td>Male</td>\n",
              "      <td>28</td>\n",
              "      <td>Doctor</td>\n",
              "      <td>6.2</td>\n",
              "      <td>6</td>\n",
              "      <td>60</td>\n",
              "      <td>8</td>\n",
              "      <td>Normal</td>\n",
              "      <td>125/80</td>\n",
              "      <td>75</td>\n",
              "      <td>10000</td>\n",
              "      <td>NaN</td>\n",
              "    </tr>\n",
              "    <tr>\n",
              "      <th>2</th>\n",
              "      <td>3</td>\n",
              "      <td>Male</td>\n",
              "      <td>28</td>\n",
              "      <td>Doctor</td>\n",
              "      <td>6.2</td>\n",
              "      <td>6</td>\n",
              "      <td>60</td>\n",
              "      <td>8</td>\n",
              "      <td>Normal</td>\n",
              "      <td>125/80</td>\n",
              "      <td>75</td>\n",
              "      <td>10000</td>\n",
              "      <td>NaN</td>\n",
              "    </tr>\n",
              "    <tr>\n",
              "      <th>3</th>\n",
              "      <td>4</td>\n",
              "      <td>Male</td>\n",
              "      <td>28</td>\n",
              "      <td>Sales Representative</td>\n",
              "      <td>5.9</td>\n",
              "      <td>4</td>\n",
              "      <td>30</td>\n",
              "      <td>8</td>\n",
              "      <td>Obese</td>\n",
              "      <td>140/90</td>\n",
              "      <td>85</td>\n",
              "      <td>3000</td>\n",
              "      <td>Sleep Apnea</td>\n",
              "    </tr>\n",
              "    <tr>\n",
              "      <th>4</th>\n",
              "      <td>5</td>\n",
              "      <td>Male</td>\n",
              "      <td>28</td>\n",
              "      <td>Sales Representative</td>\n",
              "      <td>5.9</td>\n",
              "      <td>4</td>\n",
              "      <td>30</td>\n",
              "      <td>8</td>\n",
              "      <td>Obese</td>\n",
              "      <td>140/90</td>\n",
              "      <td>85</td>\n",
              "      <td>3000</td>\n",
              "      <td>Sleep Apnea</td>\n",
              "    </tr>\n",
              "  </tbody>\n",
              "</table>\n",
              "</div>"
            ],
            "text/plain": [
              "   Person ID Gender  Age            Occupation  Sleep Duration  \\\n",
              "0          1   Male   27     Software Engineer             6.1   \n",
              "1          2   Male   28                Doctor             6.2   \n",
              "2          3   Male   28                Doctor             6.2   \n",
              "3          4   Male   28  Sales Representative             5.9   \n",
              "4          5   Male   28  Sales Representative             5.9   \n",
              "\n",
              "   Quality of Sleep  Physical Activity Level  Stress Level BMI Category  \\\n",
              "0                 6                       42             6   Overweight   \n",
              "1                 6                       60             8       Normal   \n",
              "2                 6                       60             8       Normal   \n",
              "3                 4                       30             8        Obese   \n",
              "4                 4                       30             8        Obese   \n",
              "\n",
              "  Blood Pressure  Heart Rate  Daily Steps Sleep Disorder  \n",
              "0         126/83          77         4200            NaN  \n",
              "1         125/80          75        10000            NaN  \n",
              "2         125/80          75        10000            NaN  \n",
              "3         140/90          85         3000    Sleep Apnea  \n",
              "4         140/90          85         3000    Sleep Apnea  "
            ]
          },
          "metadata": {},
          "output_type": "display_data"
        }
      ],
      "source": [
        "display(HTML('<center><b><h3>Student Performance</h3></b></center><br>'))\n",
        "display(student_perform.head())\n",
        "print('\\n')\n",
        "display(HTML('<center><b><h3>Sleep Record</h3></b></center><br>'))\n",
        "display(sleep.head())"
      ]
    },
    {
      "cell_type": "markdown",
      "metadata": {
        "id": "ZkCbEqoQPtZT"
      },
      "source": [
        "# Measurement of Central Tendency"
      ]
    },
    {
      "cell_type": "code",
      "execution_count": 5,
      "metadata": {
        "colab": {
          "base_uri": "https://localhost:8080/"
        },
        "id": "ts1BAMaHP1Kz",
        "outputId": "2683d4bd-6f5d-4068-844f-d1d60d39d197"
      },
      "outputs": [
        {
          "name": "stdout",
          "output_type": "stream",
          "text": [
            "Daily Steps in Average: 6816.844919786096 steps\n",
            "Median of Daily Steps: 7000.0 steps\n",
            "Mode of Daily Steps: 8000 steps\n"
          ]
        }
      ],
      "source": [
        "print('Daily Steps in Average:',sleep['Daily Steps'].mean(),'steps')\n",
        "print('Median of Daily Steps:',sleep['Daily Steps'].median(),'steps')\n",
        "print('Mode of Daily Steps:',sleep['Daily Steps'].mode().values[0],'steps')"
      ]
    },
    {
      "cell_type": "code",
      "execution_count": null,
      "metadata": {
        "colab": {
          "base_uri": "https://localhost:8080/"
        },
        "id": "3twpDGznRJvj",
        "outputId": "981d3177-2432-4aa8-add2-556148b2c3b3"
      },
      "outputs": [
        {
          "name": "stdout",
          "output_type": "stream",
          "text": [
            "0    Nurse\n",
            "Name: Occupation, dtype: object\n"
          ]
        }
      ],
      "source": [
        "print(sleep['Occupation'].mode())"
      ]
    },
    {
      "cell_type": "code",
      "execution_count": null,
      "metadata": {
        "colab": {
          "base_uri": "https://localhost:8080/"
        },
        "id": "zD14tFsURjoh",
        "outputId": "c4ff5874-5263-4de5-b1b1-b0763e7de291"
      },
      "outputs": [
        {
          "data": {
            "text/plain": [
              "Nurse                   73\n",
              "Doctor                  71\n",
              "Engineer                63\n",
              "Lawyer                  47\n",
              "Teacher                 40\n",
              "Accountant              37\n",
              "Salesperson             32\n",
              "Software Engineer        4\n",
              "Scientist                4\n",
              "Sales Representative     2\n",
              "Manager                  1\n",
              "Name: Occupation, dtype: int64"
            ]
          },
          "execution_count": 8,
          "metadata": {},
          "output_type": "execute_result"
        }
      ],
      "source": [
        "sleep['Occupation'].value_counts()"
      ]
    },
    {
      "cell_type": "markdown",
      "metadata": {
        "id": "K4VukX5bR_H4"
      },
      "source": [
        "# Measurement of Dispersion"
      ]
    },
    {
      "cell_type": "markdown",
      "metadata": {
        "id": "RzehKAvFSfgA"
      },
      "source": [
        "## Range"
      ]
    },
    {
      "cell_type": "code",
      "execution_count": null,
      "metadata": {
        "colab": {
          "base_uri": "https://localhost:8080/"
        },
        "id": "0XkXm9V_SRfJ",
        "outputId": "daa984fb-d425-4eb2-8393-92d60a019099"
      },
      "outputs": [
        {
          "name": "stdout",
          "output_type": "stream",
          "text": [
            "Range of daily steps: 7000\n"
          ]
        }
      ],
      "source": [
        "range = sleep['Daily Steps'].max() - sleep['Daily Steps'].min()\n",
        "print('Range of daily steps:',range)"
      ]
    },
    {
      "cell_type": "markdown",
      "metadata": {
        "id": "PI2RNSD3S9cb"
      },
      "source": [
        "## Quartile"
      ]
    },
    {
      "cell_type": "code",
      "execution_count": 7,
      "metadata": {
        "colab": {
          "base_uri": "https://localhost:8080/"
        },
        "id": "xbiqguL9S9cb",
        "outputId": "906b3cf9-e8a4-4c60-cf78-147938bab28e"
      },
      "outputs": [
        {
          "name": "stdout",
          "output_type": "stream",
          "text": [
            "Q1: 5600.0\n",
            "Q2: 7000.0\n",
            "Q3: 8000.0\n",
            "Interquartile Range (IQR): 2400.0\n"
          ]
        }
      ],
      "source": [
        "q1 = sleep['Daily Steps'].quantile(0.25)\n",
        "q2 = sleep['Daily Steps'].quantile(0.5)\n",
        "q3 = sleep['Daily Steps'].quantile(0.75)\n",
        "\n",
        "iqr = q3 - q1\n",
        "print('Q1:',q1)\n",
        "print('Q2:',q2)\n",
        "print('Q3:',q3)\n",
        "print('Interquartile Range (IQR):',iqr)"
      ]
    },
    {
      "cell_type": "code",
      "execution_count": null,
      "metadata": {
        "cellView": "form",
        "colab": {
          "base_uri": "https://localhost:8080/",
          "height": 431
        },
        "id": "DprmaCnEXG9N",
        "outputId": "1fc70e3e-a0d5-4c4a-c547-aed66db8c66c"
      },
      "outputs": [
        {
          "data": {
            "image/png": "[encoded data removed]",
            "text/plain": [
              "<Figure size 600x400 with 1 Axes>"
            ]
          },
          "metadata": {},
          "output_type": "display_data"
        }
      ],
      "source": [
        "#@title Illustration of Quartile on Boxplot\n",
        "plt.figure(figsize=(6, 4))\n",
        "plt.boxplot(sleep['Daily Steps'], vert=False, patch_artist=True)\n",
        "\n",
        "plt.annotate(f'Q1 = {q1}', xy=(q1, 1.06), xytext=(q1, 1.2), arrowprops=dict(facecolor='black', arrowstyle='->'))\n",
        "plt.annotate(f'Q2 = {q2}', xy=(q2, 1.06), xytext=(q2, 1.3), arrowprops=dict(facecolor='black', arrowstyle='->'))\n",
        "plt.annotate(f'Q3 = {q3}', xy=(q3, 1.06), xytext=(q3, 1.2), arrowprops=dict(facecolor='black', arrowstyle='->'))\n",
        "plt.annotate(f'IQR = {iqr}', xy=((q1+q3)/2, 0.85), ha='center')\n",
        "\n",
        "plt.axvline(q1, linestyle='--', color='gray', label='Q1')\n",
        "plt.axvline(q3, linestyle='--', color='gray', label='Q3')\n",
        "plt.axvspan(q1, q3, alpha=0.2, color='gray', label='IQR')\n",
        "\n",
        "plt.xlabel('Values')\n",
        "plt.title('Boxplot of Daily Steps')\n",
        "\n",
        "plt.show()"
      ]
    },
    {
      "cell_type": "markdown",
      "metadata": {
        "id": "9fWX16l-S967"
      },
      "source": [
        "## Variance"
      ]
    },
    {
      "cell_type": "code",
      "execution_count": 12,
      "metadata": {
        "colab": {
          "base_uri": "https://localhost:8080/"
        },
        "id": "cP-AjHeuS967",
        "outputId": "8850585c-476e-479b-e7f1-2da966283923"
      },
      "outputs": [
        {
          "name": "stdout",
          "output_type": "stream",
          "text": [
            "Variance of daily steps data: 2617651.144786455\n"
          ]
        }
      ],
      "source": [
        "variance = sleep['Daily Steps'].var()\n",
        "print('Variance of daily steps data:',variance)"
      ]
    },
    {
      "cell_type": "markdown",
      "metadata": {
        "id": "dLrW6c1eS_bQ"
      },
      "source": [
        "## Standard Deviation"
      ]
    },
    {
      "cell_type": "code",
      "execution_count": 16,
      "metadata": {},
      "outputs": [
        {
          "data": {
            "text/plain": [
              "1617.915679133636"
            ]
          },
          "execution_count": 16,
          "metadata": {},
          "output_type": "execute_result"
        }
      ],
      "source": [
        "import math\n",
        "math.sqrt(sleep['Daily Steps'].var())"
      ]
    },
    {
      "cell_type": "code",
      "execution_count": 13,
      "metadata": {
        "colab": {
          "base_uri": "https://localhost:8080/"
        },
        "id": "UVT5ckNJS_bQ",
        "outputId": "3ad48587-584b-4aa6-d157-399aa0e92fef"
      },
      "outputs": [
        {
          "name": "stdout",
          "output_type": "stream",
          "text": [
            "Standard Deviation of daily steps data: 1617.915679133636\n"
          ]
        }
      ],
      "source": [
        "std = sleep['Daily Steps'].std()\n",
        "print('Standard Deviation of daily steps data:',std)"
      ]
    },
    {
      "cell_type": "markdown",
      "metadata": {
        "id": "0IGe4GOUwFjx"
      },
      "source": [
        "From result of variance we know that in a group of people, the daily walking steps are high variety and based on the standard deviasion, we know that the variation itself not really that spread since the daily steps in average is 6800 steps/person/day."
      ]
    },
    {
      "cell_type": "markdown",
      "metadata": {
        "id": "-YPhCbBuU8SR"
      },
      "source": [
        "# Distribution"
      ]
    },
    {
      "cell_type": "markdown",
      "metadata": {
        "id": "Kg0BNkNJVJU6"
      },
      "source": [
        "## Discrete"
      ]
    },
    {
      "cell_type": "code",
      "execution_count": 11,
      "metadata": {
        "colab": {
          "base_uri": "https://localhost:8080/",
          "height": 462
        },
        "id": "L5TMWWOeTC2j",
        "outputId": "99d00006-f2b7-4572-9bd0-1b1d74555c09"
      },
      "outputs": [
        {
          "data": {
            "text/plain": [
              "<Axes: xlabel='Stress Level'>"
            ]
          },
          "execution_count": 11,
          "metadata": {},
          "output_type": "execute_result"
        },
        {
          "data": {
            "image/png": "[encoded data removed]",
            "text/plain": [
              "<Figure size 640x480 with 1 Axes>"
            ]
          },
          "metadata": {},
          "output_type": "display_data"
        }
      ],
      "source": [
        "sleep['Stress Level'].value_counts().sort_index().plot(kind='bar')"
      ]
    },
    {
      "cell_type": "markdown",
      "metadata": {
        "id": "yerv-rtRNE7r"
      },
      "source": [
        "What kind of this distribution?"
      ]
    },
    {
      "cell_type": "markdown",
      "metadata": {
        "id": "fPh-VCYCVPQX"
      },
      "source": [
        "## Continuous"
      ]
    },
    {
      "cell_type": "code",
      "execution_count": null,
      "metadata": {
        "colab": {
          "base_uri": "https://localhost:8080/",
          "height": 467
        },
        "id": "zuRgGfBaVcQm",
        "outputId": "f2d5a984-964b-4dbe-9a1b-c8950b44d8dd"
      },
      "outputs": [
        {
          "data": {
            "text/plain": [
              "<Axes: ylabel='Frequency'>"
            ]
          },
          "execution_count": 15,
          "metadata": {},
          "output_type": "execute_result"
        },
        {
          "data": {
            "image/png": "[encoded data removed]",
            "text/plain": [
              "<Figure size 640x480 with 1 Axes>"
            ]
          },
          "metadata": {},
          "output_type": "display_data"
        }
      ],
      "source": [
        "student_perform['math score'].plot(kind='hist',bins=20)"
      ]
    },
    {
      "cell_type": "markdown",
      "metadata": {
        "id": "YumPaqCyNIpW"
      },
      "source": [
        "From image above, the data is looked like to be normal but with outlier severity and quite skew."
      ]
    },
    {
      "cell_type": "markdown",
      "metadata": {
        "id": "WXbPL8PLVR8s"
      },
      "source": [
        "## Normality Test"
      ]
    },
    {
      "cell_type": "markdown",
      "metadata": {
        "id": "YYZs2oI5VYF7"
      },
      "source": [
        "### Testing"
      ]
    },
    {
      "cell_type": "markdown",
      "metadata": {
        "id": "DZ5McrBzmUfU"
      },
      "source": [
        "#### D’Agostino’s K^2 Test\n",
        "\n",
        "This test combine skewness and kurtosis values to validate a data is normal or not. We will use condition that if `p-value` more than 0.05, the data has normal distribution."
      ]
    },
    {
      "cell_type": "code",
      "execution_count": null,
      "metadata": {
        "colab": {
          "base_uri": "https://localhost:8080/"
        },
        "id": "AoQjkhxbVcxI",
        "outputId": "5546028f-8a79-49e1-fd5b-2d8b376125ae"
      },
      "outputs": [
        {
          "name": "stdout",
          "output_type": "stream",
          "text": [
            "p-value: 0.00045080293869937836\n"
          ]
        }
      ],
      "source": [
        "res = stats.normaltest(student_perform['math score'])\n",
        "print(f'p-value: {res.pvalue}') #ga normal"
      ]
    },
    {
      "cell_type": "markdown",
      "metadata": {
        "id": "3fY_HuGcmW-G"
      },
      "source": [
        "#### Shapiro-Wilk Test\n",
        "\n",
        "This testing tool is another way to test the normality of a data. The condition is the same as D'Agostino K^2 Test."
      ]
    },
    {
      "cell_type": "code",
      "execution_count": null,
      "metadata": {
        "colab": {
          "base_uri": "https://localhost:8080/"
        },
        "id": "GaFIjxICmY-V",
        "outputId": "724f2299-6ae3-4451-f769-3d47a799ca9a"
      },
      "outputs": [
        {
          "name": "stdout",
          "output_type": "stream",
          "text": [
            "p-value: 0.000144938996527344\n"
          ]
        }
      ],
      "source": [
        "res = stats.shapiro(student_perform['math score'])\n",
        "print(f'p-value: {res.pvalue}') #ga normal"
      ]
    },
    {
      "cell_type": "markdown",
      "metadata": {
        "id": "AA10TQ1VN4B4"
      },
      "source": [
        "Unfortunately, our `math score` data has not normal distribution, but visually shows a different insight. We need to perform other tests."
      ]
    },
    {
      "cell_type": "markdown",
      "metadata": {
        "id": "eUew154wVZzX"
      },
      "source": [
        "### Skewness and Kurtosis\n",
        "\n",
        "- **Skew** is a quantification of how much a distribution is pushed left or right, a measure of asymmetry in the distribution.\n",
        "- **Kurtosis** quantifies how much of the distribution is in the tail. It is a simple and commonly used statistical test for normality.\n",
        "\n",
        "Skewness and Kurtosis values are very common and very easy to use to analyze whether a data has normal distribution or not."
      ]
    },
    {
      "cell_type": "code",
      "execution_count": null,
      "metadata": {
        "colab": {
          "base_uri": "https://localhost:8080/"
        },
        "id": "TSsKFV49VdWH",
        "outputId": "8a6e1714-2359-400d-f373-871f61fc8a03"
      },
      "outputs": [
        {
          "name": "stdout",
          "output_type": "stream",
          "text": [
            "Skewness: -0.27893514909431694\n"
          ]
        }
      ],
      "source": [
        "print(f\"Skewness: {student_perform['math score'].skew()}\")"
      ]
    },
    {
      "cell_type": "markdown",
      "metadata": {
        "id": "RknCyLQ6OUBF"
      },
      "source": [
        "The data has left-skewed distribution but it's still more than -0.5 so it's moderately skewed. However, we can still conclude that the data distribution is almost normal."
      ]
    },
    {
      "cell_type": "code",
      "execution_count": 18,
      "metadata": {
        "colab": {
          "base_uri": "https://localhost:8080/"
        },
        "id": "rXnz3FjtWGYB",
        "outputId": "28980950-d880-49e9-d9e1-ffee57fbc460"
      },
      "outputs": [
        {
          "name": "stdout",
          "output_type": "stream",
          "text": [
            "Kurtosis: 0.27496405752108455\n"
          ]
        }
      ],
      "source": [
        "print(f\"Kurtosis: {student_perform['math score'].kurtosis()}\")"
      ]
    },
    {
      "cell_type": "markdown",
      "metadata": {
        "id": "Zk21tDYNPBCC"
      },
      "source": [
        "The data's kurtosis type is leptokurtic which means that it has more havy tail than a normal distribution. Perhaps it makes the data is looked like not normal.\n",
        "\n",
        "However, if we check the average and median once again, it tend to be normal distribution."
      ]
    },
    {
      "cell_type": "code",
      "execution_count": null,
      "metadata": {
        "colab": {
          "base_uri": "https://localhost:8080/"
        },
        "id": "P7TMQqRHb_co",
        "outputId": "94c13bc2-e2ab-4a70-aae3-6e679db64f3c"
      },
      "outputs": [
        {
          "name": "stdout",
          "output_type": "stream",
          "text": [
            "Average: 66.089\n",
            "Median: 66.0\n"
          ]
        }
      ],
      "source": [
        "print('Average:',student_perform['math score'].mean())\n",
        "print('Median:',student_perform['math score'].median())"
      ]
    },
    {
      "cell_type": "markdown",
      "metadata": {
        "id": "j8axuaz_PXkN"
      },
      "source": [
        "In our case, we conclude that the `math score` has normal distribution since it proved by several tests, but failed only in two tests."
      ]
    },
    {
      "cell_type": "markdown",
      "metadata": {
        "id": "5udRbULIVdi6"
      },
      "source": [
        "# Outliers and Extreme Values Analysis\n",
        "\n",
        "The `math score` has several outliers that indicated by the visualization and kurtosis value. But we can also use boxplot to validate it."
      ]
    },
    {
      "cell_type": "code",
      "execution_count": 20,
      "metadata": {
        "colab": {
          "base_uri": "https://localhost:8080/",
          "height": 406
        },
        "id": "PA29MGewbWXg",
        "outputId": "8e27edb8-f503-45e4-e426-712a03c7bfad"
      },
      "outputs": [
        {
          "data": {
            "text/plain": [
              "<Axes: >"
            ]
          },
          "execution_count": 20,
          "metadata": {},
          "output_type": "execute_result"
        },
        {
          "data": {
            "image/png": "[encoded data removed]",
            "text/plain": [
              "<Figure size 1000x400 with 2 Axes>"
            ]
          },
          "metadata": {},
          "output_type": "display_data"
        }
      ],
      "source": [
        "fig, ax = plt.subplots(ncols=2,figsize=(10,4))\n",
        "\n",
        "student_perform['math score'].plot(kind='hist',bins=20,ax=ax[0])\n",
        "student_perform['math score'].plot(kind='box',ax=ax[1])"
      ]
    },
    {
      "cell_type": "markdown",
      "metadata": {
        "id": "Py8HMUifVj3m"
      },
      "source": [
        "## Normal Distribution: Z-Score"
      ]
    },
    {
      "cell_type": "code",
      "execution_count": 21,
      "metadata": {},
      "outputs": [
        {
          "data": {
            "text/plain": [
              "np.float64(-0.27893514909431694)"
            ]
          },
          "execution_count": 21,
          "metadata": {},
          "output_type": "execute_result"
        }
      ],
      "source": [
        "student_perform['math score'].skew()"
      ]
    },
    {
      "cell_type": "code",
      "execution_count": null,
      "metadata": {
        "colab": {
          "base_uri": "https://localhost:8080/"
        },
        "id": "WjRY-PShVpHf",
        "outputId": "a0724e0e-11dd-4831-d5cd-a1f062f1d91c"
      },
      "outputs": [
        {
          "name": "stdout",
          "output_type": "stream",
          "text": [
            "Upper Boundary: 111.58\n",
            "Lower Boundary: 20.60\n"
          ]
        }
      ],
      "source": [
        "avg = student_perform['math score'].mean()\n",
        "std = student_perform['math score'].std()\n",
        "\n",
        "up_bound = avg + 3*std\n",
        "low_bound = avg - 3*std\n",
        "\n",
        "print(f'Upper Boundary: {up_bound:.2f}' )\n",
        "print(f'Lower Boundary: {low_bound:.2f}')"
      ]
    },
    {
      "cell_type": "code",
      "execution_count": 22,
      "metadata": {},
      "outputs": [],
      "source": [
        "no_outlier = student_perform['math score'][(student_perform['math score']>=low_bound) & (student_perform['math score']<=up_bound)]"
      ]
    },
    {
      "cell_type": "code",
      "execution_count": 26,
      "metadata": {},
      "outputs": [
        {
          "data": {
            "text/plain": [
              "0    72\n",
              "1    69\n",
              "2    90\n",
              "3    47\n",
              "4    76\n",
              "Name: math score, dtype: int64"
            ]
          },
          "execution_count": 26,
          "metadata": {},
          "output_type": "execute_result"
        }
      ],
      "source": [
        "no_outlier.head()"
      ]
    },
    {
      "cell_type": "code",
      "execution_count": 24,
      "metadata": {},
      "outputs": [],
      "source": [
        "outlier = student_perform['math score'][(student_perform['math score']<low_bound) | (student_perform['math score']>up_bound)]"
      ]
    },
    {
      "cell_type": "code",
      "execution_count": 27,
      "metadata": {},
      "outputs": [
        {
          "data": {
            "text/plain": [
              "17     18\n",
              "59      0\n",
              "145    22\n",
              "338    24\n",
              "466    26\n",
              "Name: math score, dtype: int64"
            ]
          },
          "execution_count": 27,
          "metadata": {},
          "output_type": "execute_result"
        }
      ],
      "source": [
        "outlier.head()"
      ]
    },
    {
      "cell_type": "code",
      "execution_count": 28,
      "metadata": {
        "colab": {
          "base_uri": "https://localhost:8080/"
        },
        "id": "4JsdahKsdOVg",
        "outputId": "a7db0c96-8a39-4dea-f327-60b918c356a6"
      },
      "outputs": [
        {
          "name": "stdout",
          "output_type": "stream",
          "text": [
            "Percentage of outliers: 0.80%%\n"
          ]
        }
      ],
      "source": [
        "outlier = student_perform['math score'][(student_perform['math score']<low_bound) | (student_perform['math score']>up_bound)]\n",
        "no_outlier = student_perform['math score'][(student_perform['math score']>=low_bound) & (student_perform['math score']<=up_bound)]\n",
        "\n",
        "print(f'Percentage of outliers: {len(outlier)*100/len(student_perform[\"math score\"]):.2f}%%')"
      ]
    },
    {
      "cell_type": "code",
      "execution_count": null,
      "metadata": {
        "colab": {
          "base_uri": "https://localhost:8080/",
          "height": 406
        },
        "id": "WwlGzW9Ek_Dh",
        "outputId": "74a3fae8-9e14-40ae-84af-eabf379cd4ef"
      },
      "outputs": [
        {
          "data": {
            "text/plain": [
              "<Axes: >"
            ]
          },
          "execution_count": 25,
          "metadata": {},
          "output_type": "execute_result"
        },
        {
          "data": {
            "image/png": "[encoded data removed]",
            "text/plain": [
              "<Figure size 1000x400 with 2 Axes>"
            ]
          },
          "metadata": {},
          "output_type": "display_data"
        }
      ],
      "source": [
        "fig, ax = plt.subplots(ncols=2,figsize=(10,4))\n",
        "\n",
        "no_outlier.plot(kind='hist',bins=20,ax=ax[0])\n",
        "no_outlier.plot(kind='box',ax=ax[1])"
      ]
    },
    {
      "cell_type": "markdown",
      "metadata": {
        "id": "OueA4EaLP2cu"
      },
      "source": [
        "Outliers still remain in the data"
      ]
    },
    {
      "cell_type": "markdown",
      "metadata": {
        "id": "ITy0yHktVpPD"
      },
      "source": [
        "## Skew Distribution: Tukey's Rule"
      ]
    },
    {
      "cell_type": "code",
      "execution_count": 31,
      "metadata": {},
      "outputs": [
        {
          "data": {
            "text/plain": [
              "np.float64(1.2248235470533522)"
            ]
          },
          "execution_count": 31,
          "metadata": {},
          "output_type": "execute_result"
        }
      ],
      "source": [
        "sleep['Heart Rate'].skew()"
      ]
    },
    {
      "cell_type": "code",
      "execution_count": 30,
      "metadata": {
        "colab": {
          "base_uri": "https://localhost:8080/"
        },
        "id": "L6drMwa-VsT7",
        "outputId": "d05ab950-a676-4e8d-a542-cb1eca2af0a9"
      },
      "outputs": [
        {
          "name": "stdout",
          "output_type": "stream",
          "text": [
            "Upper Boundary: 78.00\n",
            "Lower Boundary: 62.00\n"
          ]
        }
      ],
      "source": [
        "q1 = sleep['Heart Rate'].quantile(0.25)\n",
        "q3 = sleep['Heart Rate'].quantile(0.75)\n",
        "iqr = q3-q1\n",
        "\n",
        "up_bound = q3 + 1.5*iqr\n",
        "low_bound = q1 - 1.5*iqr\n",
        "\n",
        "print(f'Upper Boundary: {up_bound:.2f}' )\n",
        "print(f'Lower Boundary: {low_bound:.2f}')"
      ]
    },
    {
      "cell_type": "code",
      "execution_count": 33,
      "metadata": {
        "colab": {
          "base_uri": "https://localhost:8080/"
        },
        "id": "hnGk3xUdk6Qy",
        "outputId": "86ce3e51-af9d-45de-ce1d-d093e9b0981b"
      },
      "outputs": [
        {
          "name": "stdout",
          "output_type": "stream",
          "text": [
            "Percentage of outliers: 4.01%%\n"
          ]
        }
      ],
      "source": [
        "outlier = sleep['Heart Rate'][(sleep['Heart Rate']<low_bound) | (sleep['Heart Rate']>up_bound)]\n",
        "no_outlier = sleep['Heart Rate'][(sleep['Heart Rate']>=low_bound) & (sleep['Heart Rate']<=up_bound)]\n",
        "\n",
        "print(f'Percentage of outliers: {len(outlier)*100/len(sleep[\"Heart Rate\"]):.2f}%%')"
      ]
    },
    {
      "cell_type": "code",
      "execution_count": 34,
      "metadata": {
        "colab": {
          "base_uri": "https://localhost:8080/",
          "height": 406
        },
        "id": "FKWl_d8ZlDlq",
        "outputId": "b263bac8-f48e-41ad-a9dc-d600a158ce70"
      },
      "outputs": [
        {
          "data": {
            "text/plain": [
              "<Axes: >"
            ]
          },
          "execution_count": 34,
          "metadata": {},
          "output_type": "execute_result"
        },
        {
          "data": {
            "image/png": "[encoded data removed]",
            "text/plain": [
              "<Figure size 1000x400 with 2 Axes>"
            ]
          },
          "metadata": {},
          "output_type": "display_data"
        }
      ],
      "source": [
        "fig, ax = plt.subplots(ncols=2,figsize=(10,4))\n",
        "\n",
        "no_outlier.plot(kind='hist',bins=20,ax=ax[0])\n",
        "no_outlier.plot(kind='box',ax=ax[1])"
      ]
    },
    {
      "cell_type": "code",
      "execution_count": 35,
      "metadata": {},
      "outputs": [
        {
          "data": {
            "text/plain": [
              "374"
            ]
          },
          "execution_count": 35,
          "metadata": {},
          "output_type": "execute_result"
        }
      ],
      "source": [
        "len(sleep['Heart Rate'])"
      ]
    },
    {
      "cell_type": "code",
      "execution_count": 36,
      "metadata": {},
      "outputs": [
        {
          "data": {
            "text/plain": [
              "359"
            ]
          },
          "execution_count": 36,
          "metadata": {},
          "output_type": "execute_result"
        }
      ],
      "source": [
        "len(no_outlier)"
      ]
    },
    {
      "cell_type": "markdown",
      "metadata": {
        "id": "iavdYuPbP559"
      },
      "source": [
        "The outliers has gone.\n",
        "\n",
        "But, why it can be? it is so strange that using z-score method to measure the upper and lower boundaries, we still got outliers in our data but using tukey's rule, the outliers has gone. Meanwhile, our data distribution is normal.\n",
        "\n",
        "This confusion can be explained that the boxplot itself constructed by quartile, which means tend to handle skewed data better than normal.\n",
        "\n",
        "Don't worry, you are in the right path since our steps is right."
      ]
    },
    {
      "cell_type": "markdown",
      "metadata": {
        "id": "0FpEmorjVtbl"
      },
      "source": [
        "# Correlation Analysis"
      ]
    },
    {
      "cell_type": "markdown",
      "metadata": {
        "id": "ISTpDeB3tJF9"
      },
      "source": [
        "## Scipy"
      ]
    },
    {
      "cell_type": "code",
      "execution_count": 37,
      "metadata": {
        "colab": {
          "base_uri": "https://localhost:8080/",
          "height": 332
        },
        "id": "wJsQdcsotXFb",
        "outputId": "8fc71a47-634d-4a81-cb33-ca04c5f1443e"
      },
      "outputs": [
        {
          "data": {
            "text/html": [
              "<div>\n",
              "<style scoped>\n",
              "    .dataframe tbody tr th:only-of-type {\n",
              "        vertical-align: middle;\n",
              "    }\n",
              "\n",
              "    .dataframe tbody tr th {\n",
              "        vertical-align: top;\n",
              "    }\n",
              "\n",
              "    .dataframe thead th {\n",
              "        text-align: right;\n",
              "    }\n",
              "</style>\n",
              "<table border=\"1\" class=\"dataframe\">\n",
              "  <thead>\n",
              "    <tr style=\"text-align: right;\">\n",
              "      <th></th>\n",
              "      <th>Person ID</th>\n",
              "      <th>Gender</th>\n",
              "      <th>Age</th>\n",
              "      <th>Occupation</th>\n",
              "      <th>Sleep Duration</th>\n",
              "      <th>Quality of Sleep</th>\n",
              "      <th>Physical Activity Level</th>\n",
              "      <th>Stress Level</th>\n",
              "      <th>BMI Category</th>\n",
              "      <th>Blood Pressure</th>\n",
              "      <th>Heart Rate</th>\n",
              "      <th>Daily Steps</th>\n",
              "      <th>Sleep Disorder</th>\n",
              "    </tr>\n",
              "  </thead>\n",
              "  <tbody>\n",
              "    <tr>\n",
              "      <th>0</th>\n",
              "      <td>1</td>\n",
              "      <td>Male</td>\n",
              "      <td>27</td>\n",
              "      <td>Software Engineer</td>\n",
              "      <td>6.1</td>\n",
              "      <td>6</td>\n",
              "      <td>42</td>\n",
              "      <td>6</td>\n",
              "      <td>Overweight</td>\n",
              "      <td>126/83</td>\n",
              "      <td>77</td>\n",
              "      <td>4200</td>\n",
              "      <td>NaN</td>\n",
              "    </tr>\n",
              "    <tr>\n",
              "      <th>1</th>\n",
              "      <td>2</td>\n",
              "      <td>Male</td>\n",
              "      <td>28</td>\n",
              "      <td>Doctor</td>\n",
              "      <td>6.2</td>\n",
              "      <td>6</td>\n",
              "      <td>60</td>\n",
              "      <td>8</td>\n",
              "      <td>Normal</td>\n",
              "      <td>125/80</td>\n",
              "      <td>75</td>\n",
              "      <td>10000</td>\n",
              "      <td>NaN</td>\n",
              "    </tr>\n",
              "    <tr>\n",
              "      <th>2</th>\n",
              "      <td>3</td>\n",
              "      <td>Male</td>\n",
              "      <td>28</td>\n",
              "      <td>Doctor</td>\n",
              "      <td>6.2</td>\n",
              "      <td>6</td>\n",
              "      <td>60</td>\n",
              "      <td>8</td>\n",
              "      <td>Normal</td>\n",
              "      <td>125/80</td>\n",
              "      <td>75</td>\n",
              "      <td>10000</td>\n",
              "      <td>NaN</td>\n",
              "    </tr>\n",
              "    <tr>\n",
              "      <th>3</th>\n",
              "      <td>4</td>\n",
              "      <td>Male</td>\n",
              "      <td>28</td>\n",
              "      <td>Sales Representative</td>\n",
              "      <td>5.9</td>\n",
              "      <td>4</td>\n",
              "      <td>30</td>\n",
              "      <td>8</td>\n",
              "      <td>Obese</td>\n",
              "      <td>140/90</td>\n",
              "      <td>85</td>\n",
              "      <td>3000</td>\n",
              "      <td>Sleep Apnea</td>\n",
              "    </tr>\n",
              "    <tr>\n",
              "      <th>4</th>\n",
              "      <td>5</td>\n",
              "      <td>Male</td>\n",
              "      <td>28</td>\n",
              "      <td>Sales Representative</td>\n",
              "      <td>5.9</td>\n",
              "      <td>4</td>\n",
              "      <td>30</td>\n",
              "      <td>8</td>\n",
              "      <td>Obese</td>\n",
              "      <td>140/90</td>\n",
              "      <td>85</td>\n",
              "      <td>3000</td>\n",
              "      <td>Sleep Apnea</td>\n",
              "    </tr>\n",
              "  </tbody>\n",
              "</table>\n",
              "</div>"
            ],
            "text/plain": [
              "   Person ID Gender  Age            Occupation  Sleep Duration  \\\n",
              "0          1   Male   27     Software Engineer             6.1   \n",
              "1          2   Male   28                Doctor             6.2   \n",
              "2          3   Male   28                Doctor             6.2   \n",
              "3          4   Male   28  Sales Representative             5.9   \n",
              "4          5   Male   28  Sales Representative             5.9   \n",
              "\n",
              "   Quality of Sleep  Physical Activity Level  Stress Level BMI Category  \\\n",
              "0                 6                       42             6   Overweight   \n",
              "1                 6                       60             8       Normal   \n",
              "2                 6                       60             8       Normal   \n",
              "3                 4                       30             8        Obese   \n",
              "4                 4                       30             8        Obese   \n",
              "\n",
              "  Blood Pressure  Heart Rate  Daily Steps Sleep Disorder  \n",
              "0         126/83          77         4200            NaN  \n",
              "1         125/80          75        10000            NaN  \n",
              "2         125/80          75        10000            NaN  \n",
              "3         140/90          85         3000    Sleep Apnea  \n",
              "4         140/90          85         3000    Sleep Apnea  "
            ]
          },
          "execution_count": 37,
          "metadata": {},
          "output_type": "execute_result"
        }
      ],
      "source": [
        "sleep.head()"
      ]
    },
    {
      "cell_type": "code",
      "execution_count": null,
      "metadata": {
        "colab": {
          "base_uri": "https://localhost:8080/",
          "height": 545
        },
        "id": "GgZZxxvIth_k",
        "outputId": "367981bd-7301-419d-f316-1bb0ca5cb755"
      },
      "outputs": [
        {
          "data": {
            "text/plain": [
              "<seaborn.axisgrid.FacetGrid at 0x7d623712f760>"
            ]
          },
          "execution_count": 30,
          "metadata": {},
          "output_type": "execute_result"
        },
        {
          "data": {
            "image/png": "[encoded data removed]",
            "text/plain": [
              "<Figure size 500x500 with 1 Axes>"
            ]
          },
          "metadata": {},
          "output_type": "display_data"
        }
      ],
      "source": [
        "sns.lmplot(data=sleep,x='Sleep Duration', y='Heart Rate')"
      ]
    },
    {
      "cell_type": "code",
      "execution_count": null,
      "metadata": {
        "colab": {
          "base_uri": "https://localhost:8080/"
        },
        "id": "g3TOkm8eVykN",
        "outputId": "f1cc2b79-553c-4034-f4df-bf4bd389438b"
      },
      "outputs": [
        {
          "name": "stdout",
          "output_type": "stream",
          "text": [
            "r-correlation: -0.52, p-value: 6.914740131849277e-27\n",
            "rho-correlation: -0.61, p-value: 2.5508723014277034e-39\n",
            "tau-correlation: -0.46, p-value: 3.28670670665191e-33\n"
          ]
        }
      ],
      "source": [
        "corr_r, pval_p = stats.pearsonr(sleep['Sleep Duration'], sleep['Heart Rate'])\n",
        "corr_rho, pval_s = stats.spearmanr(sleep['Sleep Duration'], sleep['Heart Rate'])\n",
        "corr_tau, pval_k = stats.kendalltau(sleep['Sleep Duration'], sleep['Heart Rate'])\n",
        "\n",
        "print(f\"r-correlation: {corr_r:.2f}, p-value: {pval_p}\")\n",
        "print(f\"rho-correlation: {corr_rho:.2f}, p-value: {pval_s}\")\n",
        "print(f\"tau-correlation: {corr_tau:.2f}, p-value: {pval_k}\")"
      ]
    },
    {
      "cell_type": "markdown",
      "metadata": {
        "id": "XoytO4FaSpyN"
      },
      "source": [
        "p-value used to provide information whether the correlation is real or just by chance or not significance, otherwise it is real.\n",
        "\n",
        "If p-value more than 0.05, so the correlation between two variables is by chance.\n",
        "\n",
        "In our case, the correlation between sleep duration and heart rate is by real, and based on Pearson and Spearman correlation, the show that those variables has moderate correlation."
      ]
    },
    {
      "cell_type": "markdown",
      "metadata": {
        "id": "Ff-YIBzXtLAA"
      },
      "source": [
        "## Pandas"
      ]
    },
    {
      "cell_type": "code",
      "execution_count": null,
      "metadata": {
        "colab": {
          "base_uri": "https://localhost:8080/"
        },
        "id": "yMl-c1-OvuhU",
        "outputId": "c68e9d2e-2623-4c09-d3c2-63a1991c9022"
      },
      "outputs": [
        {
          "name": "stdout",
          "output_type": "stream",
          "text": [
            "r-correlation: -0.52\n",
            "rho-correlation: -0.61\n",
            "tau-correlation: -0.46\n"
          ]
        }
      ],
      "source": [
        "print(f\"r-correlation: {sleep['Sleep Duration'].corr(sleep['Heart Rate']):.2f}\")\n",
        "print(f\"rho-correlation: {sleep['Sleep Duration'].corr(sleep['Heart Rate'], method='spearman'):.2f}\")\n",
        "print(f\"tau-correlation: {sleep['Sleep Duration'].corr(sleep['Heart Rate'], method='kendall'):.2f}\")"
      ]
    }
  ],
  "metadata": {
    "colab": {
      "provenance": []
    },
    "kernelspec": {
      "display_name": "base",
      "language": "python",
      "name": "python3"
    },
    "language_info": {
      "codemirror_mode": {
        "name": "ipython",
        "version": 3
      },
      "file_extension": ".py",
      "mimetype": "text/x-python",
      "name": "python",
      "nbconvert_exporter": "python",
      "pygments_lexer": "ipython3",
      "version": "3.12.7"
    }
  },
  "nbformat": 4,
  "nbformat_minor": 0
}

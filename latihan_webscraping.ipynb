{
 "cells": [
  {
   "cell_type": "markdown",
   "metadata": {},
   "source": [
    "## Import Libraries"
   ]
  },
  {
   "cell_type": "code",
   "execution_count": 1,
   "metadata": {},
   "outputs": [],
   "source": [
    "# untuk dataframe\n",
    "import pandas as pd\n",
    "\n",
    "# keperluan scraping\n",
    "from bs4 import BeautifulSoup\n",
    "from selenium import webdriver\n",
    "\n",
    "import time"
   ]
  },
  {
   "cell_type": "markdown",
   "metadata": {},
   "source": [
    "## Webscrapping Process"
   ]
  },
  {
   "cell_type": "markdown",
   "metadata": {},
   "source": [
    "### 1. Assign Driver"
   ]
  },
  {
   "cell_type": "code",
   "execution_count": 2,
   "metadata": {},
   "outputs": [],
   "source": [
    "# create driver\n",
    "driver = webdriver.Chrome()"
   ]
  },
  {
   "cell_type": "markdown",
   "metadata": {},
   "source": [
    "### 2. Access Website"
   ]
  },
  {
   "cell_type": "code",
   "execution_count": 3,
   "metadata": {},
   "outputs": [],
   "source": [
    "# provide the url\n",
    "url = 'https://www.bhinneka.com/jual?cari=laptop&order='\n",
    "\n",
    "# access the url\n",
    "driver.get(url)"
   ]
  },
  {
   "cell_type": "markdown",
   "metadata": {},
   "source": [
    "### 3. Fetch HTML Components"
   ]
  },
  {
   "cell_type": "code",
   "execution_count": 5,
   "metadata": {},
   "outputs": [
    {
     "data": {
      "text/plain": [
       "str"
      ]
     },
     "execution_count": 5,
     "metadata": {},
     "output_type": "execute_result"
    }
   ],
   "source": [
    "# fetch HTML\n",
    "html = driver.page_source\n",
    "\n",
    "type(html)"
   ]
  },
  {
   "cell_type": "markdown",
   "metadata": {},
   "source": [
    "### 4. Parse HTML Components"
   ]
  },
  {
   "cell_type": "code",
   "execution_count": 7,
   "metadata": {},
   "outputs": [],
   "source": [
    "# parsing the HTML\n",
    "soup = BeautifulSoup(html, \"html.parser\")"
   ]
  },
  {
   "cell_type": "markdown",
   "metadata": {},
   "source": [
    "### 5. Extract Element"
   ]
  },
  {
   "cell_type": "markdown",
   "metadata": {},
   "source": [
    "**Product Names**\n",
    "\n",
    "```html\n",
    "<a class=\"text-primary text-decoration-none\" itemprop=\"name\" href=\"/sitstand-laptop-stand-alumunium-premium-portable-lap05-sku3340917845\" content=\"SitStand Laptop Stand Alumunium Premium Portable LAP05\">SitStand Laptop Stand Alumunium Premium Portable LAP05</a>\n",
    "\n",
    "<a class=\"text-primary text-decoration-none\" itemprop=\"name\" href=\"/advan-laptop-soulmate-intel-n4020-8gb-128gb-ssd-win-11-home-grey-sku3341178387\" content=\"ADVAN Laptop Soulmate (Intel N4020, 8GB, 128GB SSD, Win 11 Home) Grey\">ADVAN Laptop Soulmate (Intel N4020, 8GB, 128GB SSD, Win 11 Home) Grey</a>\n",
    "```"
   ]
  },
  {
   "cell_type": "code",
   "execution_count": 13,
   "metadata": {},
   "outputs": [
    {
     "data": {
      "text/plain": [
       "'SitStand Laptop Stand Alumunium Premium Portable LAP05'"
      ]
     },
     "execution_count": 13,
     "metadata": {},
     "output_type": "execute_result"
    }
   ],
   "source": [
    "# find an element and extract the value\n",
    "soup.find('a', {'class':\"text-primary text-decoration-none\"}).get_text()"
   ]
  },
  {
   "cell_type": "code",
   "execution_count": 17,
   "metadata": {},
   "outputs": [],
   "source": [
    "# find all\n",
    "product_names = soup.find_all('a', {'class':\"text-primary text-decoration-none\"})\n",
    "\n",
    "# collect extracted name\n",
    "text_product_name = []\n",
    "\n",
    "# extract name\n",
    "for product in product_names:\n",
    "    # input the product name into the list\n",
    "    text_product_name.append(product.get_text())"
   ]
  },
  {
   "cell_type": "markdown",
   "metadata": {},
   "source": [
    "**Price**\n",
    "\n",
    "```html\n",
    "<span itemprop=\"price\" style=\"display:none;\">299000.0</span>\n",
    "```"
   ]
  },
  {
   "cell_type": "code",
   "execution_count": 22,
   "metadata": {},
   "outputs": [
    {
     "data": {
      "text/plain": [
       "'299000.0'"
      ]
     },
     "execution_count": 22,
     "metadata": {},
     "output_type": "execute_result"
    }
   ],
   "source": [
    "# find price element\n",
    "soup.find('span', {'itemprop':'price'}).get_text()"
   ]
  },
  {
   "cell_type": "code",
   "execution_count": 24,
   "metadata": {},
   "outputs": [],
   "source": [
    "# find all\n",
    "price_names = soup.find_all('span', {'itemprop':'price'})\n",
    "\n",
    "# collect extracted name\n",
    "text_price_name = []\n",
    "\n",
    "# extract name\n",
    "for price in price_names:\n",
    "    # input the price name into the list\n",
    "    text_price_name.append(price.get_text())"
   ]
  },
  {
   "cell_type": "markdown",
   "metadata": {},
   "source": [
    "**Cicilan**\n",
    "\n",
    "```html\n",
    "<span class=\"bmd-installment\">Cicilan Rp. 191.583/bln</span>\n",
    "```"
   ]
  },
  {
   "cell_type": "code",
   "execution_count": 40,
   "metadata": {},
   "outputs": [
    {
     "data": {
      "text/plain": [
       "<span class=\"bmd-installment\">Cicilan Rp. 241.667/bln</span>"
      ]
     },
     "execution_count": 40,
     "metadata": {},
     "output_type": "execute_result"
    }
   ],
   "source": [
    "# find price element\n",
    "soup.find('span', {'class':'bmd-installment'})"
   ]
  },
  {
   "cell_type": "markdown",
   "metadata": {},
   "source": [
    "### 6. Create Dataframe"
   ]
  },
  {
   "cell_type": "code",
   "execution_count": 31,
   "metadata": {},
   "outputs": [
    {
     "data": {
      "text/html": [
       "<div>\n",
       "<style scoped>\n",
       "    .dataframe tbody tr th:only-of-type {\n",
       "        vertical-align: middle;\n",
       "    }\n",
       "\n",
       "    .dataframe tbody tr th {\n",
       "        vertical-align: top;\n",
       "    }\n",
       "\n",
       "    .dataframe thead th {\n",
       "        text-align: right;\n",
       "    }\n",
       "</style>\n",
       "<table border=\"1\" class=\"dataframe\">\n",
       "  <thead>\n",
       "    <tr style=\"text-align: right;\">\n",
       "      <th></th>\n",
       "      <th>Product Name</th>\n",
       "      <th>Discount Price</th>\n",
       "    </tr>\n",
       "  </thead>\n",
       "  <tbody>\n",
       "    <tr>\n",
       "      <th>0</th>\n",
       "      <td>SitStand Laptop Stand Alumunium Premium Portab...</td>\n",
       "      <td>299000.0</td>\n",
       "    </tr>\n",
       "    <tr>\n",
       "      <th>1</th>\n",
       "      <td>ADVAN Laptop Soulmate (Intel N4020, 8GB, 128GB...</td>\n",
       "      <td>2589000.0</td>\n",
       "    </tr>\n",
       "    <tr>\n",
       "      <th>2</th>\n",
       "      <td>ADVAN Laptop Soulmate (Intel N4020, 4GB, 128GB...</td>\n",
       "      <td>2299000.0</td>\n",
       "    </tr>\n",
       "    <tr>\n",
       "      <th>3</th>\n",
       "      <td>ADVAN Laptop Soulmate (Intel N4020, 4GB, 128GB...</td>\n",
       "      <td>2299000.0</td>\n",
       "    </tr>\n",
       "    <tr>\n",
       "      <th>4</th>\n",
       "      <td>ADVAN Laptop Soulmate (Intel N4020, 4GB, 128GB...</td>\n",
       "      <td>2299000.0</td>\n",
       "    </tr>\n",
       "  </tbody>\n",
       "</table>\n",
       "</div>"
      ],
      "text/plain": [
       "                                        Product Name Discount Price\n",
       "0  SitStand Laptop Stand Alumunium Premium Portab...       299000.0\n",
       "1  ADVAN Laptop Soulmate (Intel N4020, 8GB, 128GB...      2589000.0\n",
       "2  ADVAN Laptop Soulmate (Intel N4020, 4GB, 128GB...      2299000.0\n",
       "3  ADVAN Laptop Soulmate (Intel N4020, 4GB, 128GB...      2299000.0\n",
       "4  ADVAN Laptop Soulmate (Intel N4020, 4GB, 128GB...      2299000.0"
      ]
     },
     "execution_count": 31,
     "metadata": {},
     "output_type": "execute_result"
    }
   ],
   "source": [
    "# raw data\n",
    "raw_data = {'Product Name': text_product_name,\n",
    "            'Discount Price' : text_price_name}\n",
    "\n",
    "# create dataframe\n",
    "data = pd.DataFrame(raw_data)\n",
    "\n",
    "# show dataframe\n",
    "data.head()"
   ]
  },
  {
   "cell_type": "markdown",
   "metadata": {},
   "source": [
    "### 7. Compile"
   ]
  },
  {
   "cell_type": "code",
   "execution_count": 32,
   "metadata": {},
   "outputs": [
    {
     "data": {
      "text/html": [
       "<div>\n",
       "<style scoped>\n",
       "    .dataframe tbody tr th:only-of-type {\n",
       "        vertical-align: middle;\n",
       "    }\n",
       "\n",
       "    .dataframe tbody tr th {\n",
       "        vertical-align: top;\n",
       "    }\n",
       "\n",
       "    .dataframe thead th {\n",
       "        text-align: right;\n",
       "    }\n",
       "</style>\n",
       "<table border=\"1\" class=\"dataframe\">\n",
       "  <thead>\n",
       "    <tr style=\"text-align: right;\">\n",
       "      <th></th>\n",
       "      <th>Product Name</th>\n",
       "      <th>Discount Price</th>\n",
       "    </tr>\n",
       "  </thead>\n",
       "  <tbody>\n",
       "    <tr>\n",
       "      <th>0</th>\n",
       "      <td>SitStand Laptop Stand Alumunium Premium Portab...</td>\n",
       "      <td>299000.0</td>\n",
       "    </tr>\n",
       "    <tr>\n",
       "      <th>1</th>\n",
       "      <td>ADVAN Laptop Soulmate (Intel N4020, 8GB, 128GB...</td>\n",
       "      <td>2589000.0</td>\n",
       "    </tr>\n",
       "    <tr>\n",
       "      <th>2</th>\n",
       "      <td>ADVAN Laptop Soulmate (Intel N4020, 4GB, 128GB...</td>\n",
       "      <td>2299000.0</td>\n",
       "    </tr>\n",
       "    <tr>\n",
       "      <th>3</th>\n",
       "      <td>ADVAN Laptop Soulmate (Intel N4020, 4GB, 128GB...</td>\n",
       "      <td>2299000.0</td>\n",
       "    </tr>\n",
       "    <tr>\n",
       "      <th>4</th>\n",
       "      <td>ADVAN Laptop Soulmate (Intel N4020, 4GB, 128GB...</td>\n",
       "      <td>2299000.0</td>\n",
       "    </tr>\n",
       "  </tbody>\n",
       "</table>\n",
       "</div>"
      ],
      "text/plain": [
       "                                        Product Name Discount Price\n",
       "0  SitStand Laptop Stand Alumunium Premium Portab...       299000.0\n",
       "1  ADVAN Laptop Soulmate (Intel N4020, 8GB, 128GB...      2589000.0\n",
       "2  ADVAN Laptop Soulmate (Intel N4020, 4GB, 128GB...      2299000.0\n",
       "3  ADVAN Laptop Soulmate (Intel N4020, 4GB, 128GB...      2299000.0\n",
       "4  ADVAN Laptop Soulmate (Intel N4020, 4GB, 128GB...      2299000.0"
      ]
     },
     "execution_count": 32,
     "metadata": {},
     "output_type": "execute_result"
    }
   ],
   "source": [
    "# create driver\n",
    "driver = webdriver.Chrome()\n",
    "\n",
    "# provide the url\n",
    "url = 'https://www.bhinneka.com/jual?cari=laptop&order='\n",
    "\n",
    "# access the url\n",
    "driver.get(url)\n",
    "\n",
    "# fetch HTML\n",
    "html = driver.page_source\n",
    "\n",
    "# parsing the HTML\n",
    "soup = BeautifulSoup(html, \"html.parser\")\n",
    "\n",
    "# find all for product name\n",
    "product_names = soup.find_all('a', {'class':\"text-primary text-decoration-none\"})\n",
    "\n",
    "# collect extracted name\n",
    "text_product_name = []\n",
    "\n",
    "# extract name\n",
    "for product in product_names:\n",
    "    # input the product name into the list\n",
    "    text_product_name.append(product.get_text())\n",
    "\n",
    "# find all for discount price\n",
    "price_names = soup.find_all('span', {'itemprop':'price'})\n",
    "\n",
    "# collect extracted name\n",
    "text_price_name = []\n",
    "\n",
    "# extract name\n",
    "for price in price_names:\n",
    "    # input the price name into the list\n",
    "    text_price_name.append(price.get_text())\n",
    "\n",
    "# raw data\n",
    "raw_data = {'Product Name': text_product_name,\n",
    "            'Discount Price' : text_price_name}\n",
    "\n",
    "# create dataframe\n",
    "data = pd.DataFrame(raw_data)\n",
    "\n",
    "# show dataframe\n",
    "data.head()"
   ]
  },
  {
   "cell_type": "markdown",
   "metadata": {},
   "source": [
    "### 8. Multiple Page"
   ]
  },
  {
   "cell_type": "markdown",
   "metadata": {},
   "source": [
    "- page 1 : https://www.bhinneka.com/jual?page=1&cari=laptop&order=\n",
    "- page 2 : https://www.bhinneka.com/jual?page=2&cari=laptop&order=\n",
    "- page 3 : https://www.bhinneka.com/jual?page=3&cari=laptop&order="
   ]
  },
  {
   "cell_type": "code",
   "execution_count": 34,
   "metadata": {},
   "outputs": [],
   "source": [
    "# membantu ngasih jeda\n",
    "import time"
   ]
  },
  {
   "cell_type": "code",
   "execution_count": 88,
   "metadata": {},
   "outputs": [
    {
     "name": "stdout",
     "output_type": "stream",
     "text": [
      "<class 'pandas.core.frame.DataFrame'>\n",
      "RangeIndex: 120 entries, 0 to 119\n",
      "Data columns (total 4 columns):\n",
      " #   Column          Non-Null Count  Dtype \n",
      "---  ------          --------------  ----- \n",
      " 0   Product Name    120 non-null    object\n",
      " 1   Discount Price  120 non-null    object\n",
      " 2   reviwer         120 non-null    object\n",
      " 3   Installment     120 non-null    object\n",
      "dtypes: object(4)\n",
      "memory usage: 3.9+ KB\n"
     ]
    }
   ],
   "source": [
    "# create driver\n",
    "driver = webdriver.Chrome()\n",
    "\n",
    "# collect extracted name and price\n",
    "text_product_name = []\n",
    "text_price_name = []\n",
    "cicilan_list = []\n",
    "reviews = []\n",
    "\n",
    "# looping for multiple pages\n",
    "for num_page in range(1, 4):\n",
    "    # provide the url\n",
    "    url = f'https://www.bhinneka.com/jual?page={num_page}&cari=laptop&order='\n",
    "\n",
    "    # access the url\n",
    "    driver.get(url)\n",
    "\n",
    "    # give time sleep\n",
    "    time.sleep(1)\n",
    "\n",
    "    # fetch HTML\n",
    "    html = driver.page_source\n",
    "\n",
    "    # parsing the HTML\n",
    "    soup = BeautifulSoup(html, \"html.parser\")\n",
    "\n",
    "    # find all for product name\n",
    "    product_names = soup.find_all('a', {'class':\"text-primary text-decoration-none\"})\n",
    "\n",
    "    # extract name\n",
    "    for product in product_names:\n",
    "        # input the product name into the list\n",
    "        text_product_name.append(product.get_text())\n",
    "\n",
    "    # find all for discount price\n",
    "    price_names = soup.find_all('span', {'itemprop':'price'})\n",
    "\n",
    "    # extract name\n",
    "    for price in price_names:\n",
    "        # input the price name into the list\n",
    "        text_price_name.append(price.get_text())\n",
    "\n",
    "    # extract all element reviewer\n",
    "    element_reviewers = soup.find_all('div', {'class':'bmd-product-rating'})\n",
    "\n",
    "    # extract name\n",
    "    for el_review in element_reviewers:\n",
    "        # input the price name into the list\n",
    "        reviews.append(el_review.get_text())\n",
    "\n",
    "    # extract installment\n",
    "    element_installment = soup.find_all('div', {'class':'o_wsale_product_information_text flex-grow-1'})\n",
    "\n",
    "    # extract text\n",
    "    for el_installment in element_installment:\n",
    "        cicilan_list.append(el_installment.find('span', {'class':'bmd-installment'}).get_text())\n",
    "\n",
    "# raw data\n",
    "raw_data = {'Product Name': text_product_name,\n",
    "            'Discount Price' : text_price_name,\n",
    "            'reviwer' : reviews,\n",
    "            'Installment':cicilan_list\n",
    "            }\n",
    "\n",
    "# create dataframe\n",
    "data = pd.DataFrame(raw_data)\n",
    "\n",
    "# show dataframe\n",
    "data.info()"
   ]
  },
  {
   "cell_type": "code",
   "execution_count": 89,
   "metadata": {},
   "outputs": [
    {
     "data": {
      "text/html": [
       "<div>\n",
       "<style scoped>\n",
       "    .dataframe tbody tr th:only-of-type {\n",
       "        vertical-align: middle;\n",
       "    }\n",
       "\n",
       "    .dataframe tbody tr th {\n",
       "        vertical-align: top;\n",
       "    }\n",
       "\n",
       "    .dataframe thead th {\n",
       "        text-align: right;\n",
       "    }\n",
       "</style>\n",
       "<table border=\"1\" class=\"dataframe\">\n",
       "  <thead>\n",
       "    <tr style=\"text-align: right;\">\n",
       "      <th></th>\n",
       "      <th>Product Name</th>\n",
       "      <th>Discount Price</th>\n",
       "      <th>reviwer</th>\n",
       "      <th>Installment</th>\n",
       "    </tr>\n",
       "  </thead>\n",
       "  <tbody>\n",
       "    <tr>\n",
       "      <th>0</th>\n",
       "      <td>ADVAN Laptop Soulmate (Intel N4020, 4GB, 128GB...</td>\n",
       "      <td>2299000.0</td>\n",
       "      <td>\\n\\n\\n\\n\\n\\n(1)\\n</td>\n",
       "      <td>Cicilan Rp. 191.583/bln</td>\n",
       "    </tr>\n",
       "    <tr>\n",
       "      <th>1</th>\n",
       "      <td>ADVAN Laptop Soulmate (Intel N4020, 4GB, 128GB...</td>\n",
       "      <td>2299000.0</td>\n",
       "      <td>\\n\\n\\n\\n\\n\\n(1)\\n</td>\n",
       "      <td>Cicilan Rp. 191.583/bln</td>\n",
       "    </tr>\n",
       "    <tr>\n",
       "      <th>2</th>\n",
       "      <td>ADVAN Laptop Soulmate (Intel N4020, 4GB, 128GB...</td>\n",
       "      <td>2299000.0</td>\n",
       "      <td>\\n\\n\\n\\n\\n\\n(1)\\n</td>\n",
       "      <td>Cicilan Rp. 191.583/bln</td>\n",
       "    </tr>\n",
       "    <tr>\n",
       "      <th>3</th>\n",
       "      <td>ADVAN Laptop Soulmate (Intel N4020, 8GB, 128GB...</td>\n",
       "      <td>2589000.0</td>\n",
       "      <td>\\n\\n(0)\\n</td>\n",
       "      <td>Cicilan Rp. 215.750/bln</td>\n",
       "    </tr>\n",
       "    <tr>\n",
       "      <th>4</th>\n",
       "      <td>SitStand Laptop Stand Alumunium Premium Portab...</td>\n",
       "      <td>299000.0</td>\n",
       "      <td>\\n\\n(0)\\n</td>\n",
       "      <td>Cicilan Rp. 24.917/bln</td>\n",
       "    </tr>\n",
       "  </tbody>\n",
       "</table>\n",
       "</div>"
      ],
      "text/plain": [
       "                                        Product Name Discount Price  \\\n",
       "0  ADVAN Laptop Soulmate (Intel N4020, 4GB, 128GB...      2299000.0   \n",
       "1  ADVAN Laptop Soulmate (Intel N4020, 4GB, 128GB...      2299000.0   \n",
       "2  ADVAN Laptop Soulmate (Intel N4020, 4GB, 128GB...      2299000.0   \n",
       "3  ADVAN Laptop Soulmate (Intel N4020, 8GB, 128GB...      2589000.0   \n",
       "4  SitStand Laptop Stand Alumunium Premium Portab...       299000.0   \n",
       "\n",
       "             reviwer              Installment  \n",
       "0  \\n\\n\\n\\n\\n\\n(1)\\n  Cicilan Rp. 191.583/bln  \n",
       "1  \\n\\n\\n\\n\\n\\n(1)\\n  Cicilan Rp. 191.583/bln  \n",
       "2  \\n\\n\\n\\n\\n\\n(1)\\n  Cicilan Rp. 191.583/bln  \n",
       "3          \\n\\n(0)\\n  Cicilan Rp. 215.750/bln  \n",
       "4          \\n\\n(0)\\n   Cicilan Rp. 24.917/bln  "
      ]
     },
     "execution_count": 89,
     "metadata": {},
     "output_type": "execute_result"
    }
   ],
   "source": [
    "data.head()"
   ]
  },
  {
   "cell_type": "markdown",
   "metadata": {},
   "source": [
    "**Exercise**\n",
    "- add `cicilan`\n",
    "- add `review count`"
   ]
  }
 ],
 "metadata": {
  "kernelspec": {
   "display_name": "base",
   "language": "python",
   "name": "python3"
  },
  "language_info": {
   "codemirror_mode": {
    "name": "ipython",
    "version": 3
   },
   "file_extension": ".py",
   "mimetype": "text/x-python",
   "name": "python",
   "nbconvert_exporter": "python",
   "pygments_lexer": "ipython3",
   "version": "3.12.2"
  }
 },
 "nbformat": 4,
 "nbformat_minor": 2
}

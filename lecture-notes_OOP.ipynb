{
 "cells": [
  {
   "cell_type": "markdown",
   "metadata": {},
   "source": [
    "# Object-Oriented Programming"
   ]
  },
  {
   "cell_type": "markdown",
   "metadata": {},
   "source": [
    "## Definition"
   ]
  },
  {
   "cell_type": "markdown",
   "metadata": {},
   "source": [
    "- **OOP** is a way of writing computer programs that revolves around the concept of `object(s)`. \n",
    "- Every `object` has its own `class` which defines the characteristic (attributes/properties) and behaviour (method/function). \n",
    "\n",
    "<center>\n",
    "<img src=\"https://www.roomsketcher.com/content/uploads/2023/04/blueprint-maker.jpg\">\n",
    "</center>"
   ]
  },
  {
   "cell_type": "markdown",
   "metadata": {},
   "source": [
    "## How to Define Class"
   ]
  },
  {
   "cell_type": "code",
   "execution_count": 2,
   "metadata": {},
   "outputs": [],
   "source": [
    "# defining a class\n",
    "class Cat:\n",
    "    # defining a constructor using built-in function called __init__\n",
    "    # fyi, the built-in function is usually have __*__ pattern in their name\n",
    "    def __init__(self, furColor):\n",
    "        # define attributes with values\n",
    "        # each attribute can have a static or dynamic values\n",
    "        self.furColor = furColor\n",
    "\n",
    "    # this is also a built-in function called __str__\n",
    "    def __str__(self):\n",
    "        return f\"This is a Cat with a {self.furColor} fur color\"\n",
    "\n",
    "    # define behaviours/method\n",
    "    def walk(self):\n",
    "        print(\"Cat Walk\")"
   ]
  },
  {
   "cell_type": "markdown",
   "metadata": {},
   "source": [
    "- A **constructor** is a special method in a class that gets automatically called when you create an object/call a class\n",
    "\n",
    "- A `self` keyword represents the class itself. It is used when creating or referencing an attribute or method inside the class."
   ]
  },
  {
   "cell_type": "markdown",
   "metadata": {},
   "source": [
    "## Object"
   ]
  },
  {
   "cell_type": "markdown",
   "metadata": {},
   "source": [
    "![](https://www.livehome3d.com/assets/img/social/how-to-design-a-house.jpg)"
   ]
  },
  {
   "cell_type": "markdown",
   "metadata": {},
   "source": [
    "- `object` is the \"product\" of a `class`.\n",
    "- It is created when the `class` is called/invoked."
   ]
  },
  {
   "cell_type": "code",
   "execution_count": 3,
   "metadata": {},
   "outputs": [
    {
     "name": "stdout",
     "output_type": "stream",
     "text": [
      "Cat Walk\n"
     ]
    }
   ],
   "source": [
    "# calling a class, will produce an object\n",
    "Cat(\"red\")\n",
    "\n",
    "# we can also store the object to a variable so that we can reference it later on the script\n",
    "orangeCat = Cat(\"orange\")\n",
    "\n",
    "# accessing the attribute\n",
    "orangeCat.furColor\n",
    "\n",
    "# accessing the behaviour/method\n",
    "orangeCat.walk()"
   ]
  },
  {
   "cell_type": "markdown",
   "metadata": {},
   "source": [
    "## OOP Characteristics"
   ]
  },
  {
   "cell_type": "markdown",
   "metadata": {},
   "source": [
    "### Inheritance ([references](https://www.geeksforgeeks.org/inheritance-in-python/))"
   ]
  },
  {
   "cell_type": "markdown",
   "metadata": {},
   "source": [
    "- `class` that shares atribute/methods to a \"child\" `class`\n",
    "- In inheritance, there are 2 types of `class`\n",
    "    - \"Parent\" `class`\n",
    "    - \"Child\" `class`"
   ]
  },
  {
   "cell_type": "code",
   "execution_count": null,
   "metadata": {},
   "outputs": [],
   "source": [
    "# parent\n",
    "class Father:\n",
    "    def __init__(self, name):\n",
    "        self.name = name\n",
    "\n",
    "    def introduce(self):\n",
    "        return f\"Hi, my name is {self.name} and I am a Father\"\n",
    "\n",
    "# child\n",
    "class Child(Father):\n",
    "    def __init__(self, name, hobby):\n",
    "        self.hobby = hobby\n",
    "        super().__init__(name)\n",
    "\n",
    "    def introduce(self):\n",
    "        return f\"Hi, my name is {self.name} and I am a Child of Father\"\n",
    "\n",
    "father = Father(\"Bakrie\")\n",
    "child = Child(\"Yono\", \"Main Bola\")\n",
    "\n",
    "print(father.introduce())\n",
    "print(child.introduce())"
   ]
  },
  {
   "cell_type": "markdown",
   "metadata": {},
   "source": [
    "\n",
    "#### Types of Inheritance"
   ]
  },
  {
   "cell_type": "markdown",
   "metadata": {},
   "source": [
    "<center>\n",
    "<img src=\"https://www.scientecheasy.com/wp-content/uploads/2023/09/types-of-inheritance-in-python-768x553.png\">\n",
    "</center>"
   ]
  },
  {
   "cell_type": "markdown",
   "metadata": {},
   "source": [
    "### Encapsulation ([reference](https://www.geeksforgeeks.org/encapsulation-in-python/))"
   ]
  },
  {
   "cell_type": "markdown",
   "metadata": {},
   "source": [
    "<center>\n",
    "<img src=\"https://media.geeksforgeeks.org/wp-content/uploads/20230501154755/Encapsulation-in-Python.webp\">\n",
    "</center>"
   ]
  },
  {
   "cell_type": "markdown",
   "metadata": {},
   "source": [
    "- Encapsulate attribute/methods into single unit (`class`)\n",
    "- In encapsulation, attributes/methods can be divided into 3 categories: ([reference](https://www.geeksforgeeks.org/access-modifiers-in-python-public-private-and-protected/))\n",
    "    - public: can be accessed everywhere\n",
    "    - protected: can only be accessed within the `class` itself and its child, has prefix `_`\n",
    "    - private: can only be accessed within the `class` itself, has prefix `__`\n",
    "\n",
    "- **Note**: *All members in a Python `class` are public by default.* ([reference](https://docs.python.org/3/tutorial/classes.html#tut-private))"
   ]
  },
  {
   "cell_type": "code",
   "execution_count": null,
   "metadata": {},
   "outputs": [],
   "source": [
    "# parent\n",
    "class Father:\n",
    "    def __init__(self, name):\n",
    "        self.name = name\n",
    "        self.__private = \"private value\"\n",
    "\n",
    "    def introduce(self):\n",
    "        return f\"Hi, my name is {self.name} and I am a Father\"\n",
    "    \n",
    "    def getPrivate(self):\n",
    "        return self.__private\n",
    "    \n",
    "    def __fun(self):\n",
    "        print(\"Private method\")\n",
    "\n",
    "    def getFun(self):\n",
    "        self.__fun();\n",
    "\n",
    "# child\n",
    "class Child(Father):\n",
    "    def introduce(self):\n",
    "        return f\"Hi, my name is {self.name} and I am a Child of Father\"\n",
    "    \n",
    "father = Father(\"Bakrie\")\n",
    "child = Child(\"Yono\")\n",
    "\n",
    "# accessing private attribute\n",
    "print(\"from Father:\", father.getPrivate())\n",
    "print(\"from Child:\", child.getPrivate())\n",
    "\n",
    "# accessing private method\n",
    "father.getFun()\n",
    "child.getFun()\n",
    "\n"
   ]
  },
  {
   "cell_type": "markdown",
   "metadata": {},
   "source": [
    "### Polymorphism ([reference](https://www.w3schools.com/python/python_polymorphism.asp))"
   ]
  },
  {
   "cell_type": "markdown",
   "metadata": {},
   "source": [
    "- Polymorphism is the ability of `class` to override and overload.\n",
    "- Overriding is the ability of a child `class` to create same method as its parent, but with different implementation\n",
    "- Overloading is the ability of a `class` to create same method multiple times, but with different parameter(s)\n",
    "- **Note**: *Python language can only do overriding in Polymorphism.*"
   ]
  },
  {
   "cell_type": "code",
   "execution_count": 1,
   "metadata": {},
   "outputs": [
    {
     "name": "stdout",
     "output_type": "stream",
     "text": [
      "Move!\n",
      "Sail!\n"
     ]
    }
   ],
   "source": [
    "class Vehicle:\n",
    "    def __init__(self, brand, model):\n",
    "        self.brand = brand\n",
    "        self.model = model\n",
    "\n",
    "    def move(self):\n",
    "        print(\"Move!\")\n",
    "\n",
    "class Boat(Vehicle):\n",
    "    # override method from parent\n",
    "    def move(self):\n",
    "        print(\"Sail!\")\n",
    "\n",
    "vehicle = Vehicle(\"Porsche\", \"911\")\n",
    "vehicle.move() # output: Move!\n",
    "\n",
    "boat = Boat(\"Mistubishi\", \"Rotary\")\n",
    "boat.move() # output: Sail!"
   ]
  },
  {
   "cell_type": "markdown",
   "metadata": {},
   "source": [
    "## \"Main\" Idiom ([reference](https://realpython.com/if-name-main-python/))"
   ]
  },
  {
   "cell_type": "markdown",
   "metadata": {},
   "source": [
    "```python\n",
    "if __name__ == \"__main__\":\n",
    "    pass\n",
    "```"
   ]
  }
 ],
 "metadata": {
  "kernelspec": {
   "display_name": "base",
   "language": "python",
   "name": "python3"
  },
  "language_info": {
   "codemirror_mode": {
    "name": "ipython",
    "version": 3
   },
   "file_extension": ".py",
   "mimetype": "text/x-python",
   "name": "python",
   "nbconvert_exporter": "python",
   "pygments_lexer": "ipython3",
   "version": "3.12.7"
  }
 },
 "nbformat": 4,
 "nbformat_minor": 2
}
